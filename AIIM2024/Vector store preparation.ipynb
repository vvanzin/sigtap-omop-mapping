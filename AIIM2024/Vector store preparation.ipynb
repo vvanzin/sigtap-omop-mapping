{
  "cells": [
    {
      "cell_type": "markdown",
      "metadata": {
        "id": "0Gt0jYuRUWKI"
      },
      "source": [
        "#### Vector store - sentence embeddings encoding"
      ]
    },
    {
      "cell_type": "code",
      "execution_count": null,
      "metadata": {
        "id": "T7F27Yu0OxXP"
      },
      "outputs": [],
      "source": [
        "import pandas as pd"
      ]
    },
    {
      "cell_type": "code",
      "execution_count": null,
      "metadata": {
        "id": "i1s_FAzpOwGz"
      },
      "outputs": [],
      "source": [
        "omop_df = pd.read_csv('omop_cui_defs_syns.csv', sep='\\t',\n",
        "                      converters={'concept_id': str, 'concept_code': str})\n",
        "# SNOMED = 538088 rows\n",
        "# omop_df = omop_df[(omop_df['standard_concept'] == 'S') & (omop_df['invalid_reason'].isna())\n",
        "#     & (omop_df['vocabulary_id'] == 'SNOMED') & (omop_df['domain_id'].isin(['Procedure', 'Measurement', 'Observation', 'Device', 'Condition']))]\n",
        "# RxNorm, RxNorm Extension = 2018838 rows\n",
        "omop_df = omop_df[(omop_df['standard_concept'] == 'S') & (omop_df['invalid_reason'].isna())\n",
        "    & (omop_df['vocabulary_id'].isin(['RxNorm', 'RxNorm Extension']))]\n",
        "omop_df.loc[omop_df['concept_id'] == '36311145', 'concept_name'] = 'NA'\n",
        "omop_df.loc[omop_df['concept_id'] == '45880107', 'concept_name'] = 'N/A'\n",
        "# omop_df['FullDesc'] = omop_df['concept_name'].astype(str) + ' ' + omop_df['concept_synonym_name'].fillna('').str.replace('£', ' ')\n",
        "# omop_df['concept_name'] = omop_df['concept_name'].str.lower()\n",
        "omop_df"
      ]
    },
    {
      "cell_type": "code",
      "execution_count": null,
      "metadata": {
        "id": "QegtMw43UWKk"
      },
      "outputs": [],
      "source": [
        "omop_df.columns"
      ]
    },
    {
      "cell_type": "code",
      "execution_count": null,
      "metadata": {
        "id": "xmfNrll0UWKl"
      },
      "outputs": [],
      "source": [
        "omop_df.domain_id.value_counts()"
      ]
    },
    {
      "cell_type": "code",
      "execution_count": null,
      "metadata": {
        "id": "VNGB0gjk7nrC"
      },
      "outputs": [],
      "source": [
        "from langchain.document_loaders.dataframe import DataFrameLoader"
      ]
    },
    {
      "cell_type": "code",
      "execution_count": null,
      "metadata": {
        "id": "K7aeNjM-O36G"
      },
      "outputs": [],
      "source": [
        "omop_loader = DataFrameLoader(data_frame=omop_df, page_content_column='concept_name')\n",
        "# omop_loader = DataFrameLoader(data_frame=omop_df, page_content_column='FullDesc')\n",
        "omop_data = omop_loader.load()"
      ]
    },
    {
      "cell_type": "code",
      "execution_count": null,
      "metadata": {
        "id": "ERQMi3UP9Wqr"
      },
      "outputs": [],
      "source": [
        "from langchain.embeddings.sentence_transformer import SentenceTransformerEmbeddings"
      ]
    },
    {
      "cell_type": "code",
      "execution_count": null,
      "metadata": {
        "id": "V5mPtoXU-aaB"
      },
      "outputs": [],
      "source": [
        "# MiniLM-L6\n",
        "# embedding_function = SentenceTransformerEmbeddings(model_name='all-MiniLM-L6-v2')\n",
        "# all-mpnet-base-v2\n",
        "# embedding_function = SentenceTransformerEmbeddings(model_name='all-mpnet-base-v2')\n",
        "# SGPT-125M\n",
        "# embedding_function = SentenceTransformerEmbeddings(model_name='Muennighoff/SGPT-125M-weightedmean-nli-bitfit')\n",
        "# SGPT-1.3B\n",
        "# embedding_function = SentenceTransformerEmbeddings(model_name='Muennighoff/SGPT-1.3B-weightedmean-nli-bitfit')\n",
        "# thenlper/gte-large\n",
        "embedding_function = SentenceTransformerEmbeddings(model_name='thenlper/gte-large')\n",
        "# dmis-lab/biobert-base-cased-v1.2\n",
        "# embedding_function = SentenceTransformerEmbeddings(model_name='dmis-lab/biobert-base-cased-v1.2')"
      ]
    },
    {
      "cell_type": "code",
      "execution_count": null,
      "metadata": {
        "id": "b6-3CdvXAP15"
      },
      "outputs": [],
      "source": [
        "from langchain.vectorstores import Chroma"
      ]
    },
    {
      "cell_type": "code",
      "execution_count": null,
      "metadata": {
        "id": "TbV92R61ice_"
      },
      "outputs": [],
      "source": [
        "def split_list(input_list, chunk_size):\n",
        "    for i in range(0, len(input_list), chunk_size):\n",
        "        yield input_list[i:i + chunk_size]"
      ]
    },
    {
      "cell_type": "code",
      "execution_count": null,
      "metadata": {
        "id": "9tjnYkuyjh4_"
      },
      "outputs": [],
      "source": [
        "import chromadb"
      ]
    },
    {
      "cell_type": "code",
      "execution_count": null,
      "metadata": {
        "id": "pP0StwkNiAFT"
      },
      "outputs": [],
      "source": [
        "chroma_client = chromadb.HttpClient(host='<CHROMA HOST>', port='<CHROMA PORT>')"
      ]
    },
    {
      "cell_type": "code",
      "execution_count": null,
      "metadata": {
        "id": "IYfK2nDTAKIT"
      },
      "outputs": [],
      "source": [
        "# Split in chunks - Chroma SQLite limit\n",
        "split_docs_chunked = split_list(omop_data, 10000)\n",
        "\n",
        "for index, split_docs_chunk in enumerate(split_docs_chunked):\n",
        "    print('Processing chunk index {}...'.format(index))\n",
        "    chroma_db = Chroma.from_documents(\n",
        "        collection_name='<collection name>',\n",
        "        documents=split_docs_chunk,\n",
        "        embedding=embedding_function,\n",
        "        persist_directory='./<collection name>',\n",
        "        client=chroma_client,\n",
        "        collection_metadata={'hnsw:space': 'cosine'},\n",
        "    )\n",
        "    chroma_db.persist()\n",
        "    print('Chunk {} persisted'.format(index))"
      ]
    },
    {
      "cell_type": "markdown",
      "metadata": {
        "id": "2S_MJnztUWK4"
      },
      "source": [
        "#### Vector store connection"
      ]
    },
    {
      "cell_type": "code",
      "execution_count": null,
      "metadata": {
        "id": "lASDUqwZUWK6"
      },
      "outputs": [],
      "source": [
        "import chromadb\n",
        "from langchain.vectorstores import Chroma"
      ]
    },
    {
      "cell_type": "code",
      "execution_count": null,
      "metadata": {
        "id": "qyGpKXKAUWK7"
      },
      "outputs": [],
      "source": [
        "chroma_client = chromadb.HttpClient(host='<CHROMA HOST>', port='<CHROMA PORT>')"
      ]
    },
    {
      "cell_type": "code",
      "execution_count": null,
      "metadata": {
        "id": "4rtde0-GUWK8"
      },
      "outputs": [],
      "source": [
        "chroma_db = Chroma(\n",
        "    collection_name='<collection name>',\n",
        "    embedding_function=embedding_function,\n",
        "    client=chroma_client,\n",
        "    collection_metadata={'hnsw:space': 'cosine'},\n",
        ")"
      ]
    },
    {
      "cell_type": "code",
      "execution_count": null,
      "metadata": {
        "id": "XhI_yVVPUWK9"
      },
      "outputs": [],
      "source": [
        "chroma_db._collection.count()"
      ]
    },
    {
      "cell_type": "markdown",
      "metadata": {
        "id": "pFxGPFnYr_xn"
      },
      "source": [
        "#### Filtered candidate coverage"
      ]
    },
    {
      "cell_type": "code",
      "execution_count": null,
      "metadata": {
        "id": "4RD4uApaumFQ"
      },
      "outputs": [],
      "source": [
        "import ast\n",
        "import pandas as pd"
      ]
    },
    {
      "cell_type": "code",
      "execution_count": null,
      "metadata": {
        "id": "Tw6nbb8kjrEe"
      },
      "outputs": [],
      "source": [
        "sigtap_df = pd.read_csv('<SIGTAP OMOP annotated>.csv', sep='\\t', converters={'ID': str, 'sourceCode': str},\n",
        "                        names=['ID', 'Name', 'Description', 'sourceCode', 'conceptId'], header=0)"
      ]
    },
    {
      "cell_type": "code",
      "execution_count": null,
      "metadata": {
        "id": "9X2Y1i9Vux9w"
      },
      "outputs": [],
      "source": [
        "def safe_literal_eval(x):\n",
        "    try:\n",
        "        return ast.literal_eval(x) if pd.notna(x) else None\n",
        "    except (ValueError, SyntaxError):\n",
        "        return []"
      ]
    },
    {
      "cell_type": "code",
      "execution_count": null,
      "metadata": {
        "id": "cia3cr8GuiCw"
      },
      "outputs": [],
      "source": [
        "sigtap_df['conceptId'] = sigtap_df['conceptId'].apply(safe_literal_eval)"
      ]
    },
    {
      "cell_type": "code",
      "execution_count": null,
      "metadata": {
        "id": "0HzX0Q6AUWLP"
      },
      "outputs": [],
      "source": [
        "sigtap_df['Name'] = sigtap_df['Name'].str.strip()"
      ]
    },
    {
      "cell_type": "code",
      "execution_count": null,
      "metadata": {
        "id": "BH6cHcpGUWLP"
      },
      "outputs": [],
      "source": [
        "sigtap_df['NameAndDescription'] = sigtap_df['Name'].astype(str) + ' ' + sigtap_df['Description'].fillna('')\n",
        "# sigtap_df['NameAndDescription'] = sigtap_df['NameAndDescription'].str.lower()"
      ]
    },
    {
      "cell_type": "code",
      "execution_count": null,
      "metadata": {
        "id": "JiepfkzdsCkr"
      },
      "outputs": [],
      "source": [
        "sigtap_df"
      ]
    },
    {
      "cell_type": "code",
      "execution_count": null,
      "metadata": {
        "id": "3GGahNH9UWLT"
      },
      "outputs": [],
      "source": [
        "sigtap_df.info()"
      ]
    },
    {
      "cell_type": "code",
      "execution_count": null,
      "metadata": {
        "id": "R5fRjVzsUWLV"
      },
      "outputs": [],
      "source": [
        "# Total categories\n",
        "sigtap_df['ID'].str[:2].value_counts()"
      ]
    },
    {
      "cell_type": "code",
      "execution_count": null,
      "metadata": {
        "id": "b8kRM8MHUWLW"
      },
      "outputs": [],
      "source": [
        "# Annotated categories\n",
        "# Medicines = 366\n",
        "# Procedures = 514\n",
        "sigtap_df[~sigtap_df.conceptId.isna()]['ID'].str[:2].value_counts()"
      ]
    },
    {
      "cell_type": "code",
      "execution_count": null,
      "metadata": {
        "id": "lEJr_r1Xx5CH"
      },
      "outputs": [],
      "source": [
        "from tqdm.notebook import tqdm\n",
        "tqdm.pandas()"
      ]
    },
    {
      "cell_type": "code",
      "execution_count": null,
      "metadata": {
        "id": "kpHje8NXUWLX"
      },
      "outputs": [],
      "source": [
        "COMPARISON_COLUMN = 'Name'\n",
        "SEARCH_K = 1000 # Search depth\n",
        "RESULTS_K = 1000 # Filtered candidates"
      ]
    },
    {
      "cell_type": "code",
      "execution_count": null,
      "metadata": {
        "id": "ly_qaowoUWLY"
      },
      "outputs": [],
      "source": [
        "# CATEGORY_MAPPING = {\n",
        "#     '01': # Ações de promoção e prevenção em saúde\n",
        "#     '02': # Procedimentos com finalidade diagnóstica\n",
        "#     '03': # Procedimentos clínicos\n",
        "#     '04': # Procedimentos cirúrgicos\n",
        "#     '05': # Transplantes de órgãos, tecidos e células\n",
        "#     '06': # Medicamentos\n",
        "#     '07': # Órteses, próteses e materiais especiais\n",
        "#     '08': # Ações complementares da atenção à saúde\n",
        "# }"
      ]
    },
    {
      "cell_type": "code",
      "execution_count": null,
      "metadata": {
        "id": "3JDEBOWEUWLZ"
      },
      "outputs": [],
      "source": [
        "import numpy as np\n",
        "\n",
        "from langchain.docstore.document import Document"
      ]
    },
    {
      "cell_type": "code",
      "execution_count": null,
      "metadata": {
        "id": "EFKqDHgnUWLa"
      },
      "outputs": [],
      "source": [
        "def results_to_docs(results, with_embeddings=False):\n",
        "    if with_embeddings:\n",
        "        return [\n",
        "            (Document(page_content=result[0], metadata=result[1] or {}), result[2], result[3])\n",
        "            for result in zip(\n",
        "                results['documents'][0],\n",
        "                results['metadatas'][0],\n",
        "                results['distances'][0],\n",
        "                results['embeddings'][0],\n",
        "            )\n",
        "        ]\n",
        "    else:\n",
        "        return [\n",
        "            (Document(page_content=result[0], metadata=result[1] or {}), result[2])\n",
        "            for result in zip(\n",
        "                results['documents'][0],\n",
        "                results['metadatas'][0],\n",
        "                results['distances'][0],\n",
        "            )\n",
        "        ]"
      ]
    },
    {
      "cell_type": "code",
      "execution_count": null,
      "metadata": {
        "id": "HbKglTplUWLa"
      },
      "outputs": [],
      "source": [
        "def search_concepts(row):\n",
        "    # Query nearest vectors in store (return text, metadata, embeddings and distance\n",
        "    # results = chroma_db.similarity_search_with_score(row[COMPARISON_COLUMN], k=SEARCH_K)[:RESULTS_K]\n",
        "    results = chroma_db._collection.query(\n",
        "        query_texts=[row[COMPARISON_COLUMN]],\n",
        "        n_results=SEARCH_K,\n",
        "        include=['documents', 'metadatas', 'distances'],\n",
        "    )\n",
        "    results = results_to_docs(results)[:RESULTS_K]\n",
        "    # Extract concept ID list from results (all and filtered)\n",
        "    concept_list = [result[0].metadata.get('concept_id') for result in results]\n",
        "    # Check concept ID intersection with annotated dataset (all and filtered)\n",
        "    matched = bool(set(concept_list).intersection(set(row.conceptId))) if row.conceptId else False\n",
        "    return (\n",
        "        # Procedures\n",
        "        # [(result[0].metadata.get('concept_name'), result[0].metadata.get('concept_synonym_name'), result[0].metadata.get('concept_id'), result[1]) for result in results],\n",
        "        # Medicines\n",
        "        [(result[0].page_content, result[0].metadata.get('concept_id'), result[1]) for result in results],\n",
        "        matched,\n",
        "    )"
      ]
    },
    {
      "cell_type": "markdown",
      "metadata": {
        "id": "TG3-mUdMUWLb"
      },
      "source": [
        "#### Procedures"
      ]
    },
    {
      "cell_type": "code",
      "execution_count": null,
      "metadata": {
        "id": "rHVUpydbUWLc"
      },
      "outputs": [],
      "source": [
        "# 4362 rows (SIGTAP procedures)\n",
        "sigtap_procedures = sigtap_df[sigtap_df.ID.str[:2] != '06'].copy()"
      ]
    },
    {
      "cell_type": "code",
      "execution_count": null,
      "metadata": {
        "id": "C0TOP9zpUWLc"
      },
      "outputs": [],
      "source": [
        "# Annotated 514 SIGTAP procedures\n",
        "len(sigtap_procedures[~sigtap_procedures.conceptId.isna()])"
      ]
    },
    {
      "cell_type": "code",
      "execution_count": null,
      "metadata": {
        "id": "7MhVdlsfUWLd"
      },
      "outputs": [],
      "source": [
        "sigtap_procedures[['nearest_concepts', 'matched']] = sigtap_procedures[~sigtap_procedures.conceptId.isna()].progress_apply(search_concepts, axis=1, result_type='expand')"
      ]
    },
    {
      "cell_type": "code",
      "execution_count": null,
      "metadata": {
        "id": "6W2bIt8qUWLd"
      },
      "outputs": [],
      "source": [
        "print('Total annotated = ', len(sigtap_procedures[~sigtap_procedures.conceptId.isna()]))\n",
        "print('Number of matches = ', len(sigtap_procedures[sigtap_procedures.matched == True]))"
      ]
    },
    {
      "cell_type": "code",
      "execution_count": null,
      "metadata": {
        "id": "WO26k5BYUWLe"
      },
      "outputs": [],
      "source": [
        "sigtap_procedures[(sigtap_procedures.matched == False) & (~sigtap_procedures.conceptId.isna())]"
      ]
    },
    {
      "cell_type": "code",
      "execution_count": null,
      "metadata": {
        "id": "MVMhEb1JUWLf"
      },
      "outputs": [],
      "source": [
        "sigtap_procedures.to_csv('sigtap_procedures_gte_candidates.csv', sep='\\t', index=False)"
      ]
    },
    {
      "cell_type": "code",
      "execution_count": null,
      "metadata": {
        "id": "GR0Ft1QQUWLf"
      },
      "outputs": [],
      "source": [
        "def extract_element_from_tuple_list(tuple_list):\n",
        "    return [(t[0].metadata.get('concept_id'), t[1]) for t in tuple_list]"
      ]
    },
    {
      "cell_type": "code",
      "execution_count": null,
      "metadata": {
        "id": "LurSehQMUWLf"
      },
      "outputs": [],
      "source": [
        "sigtap_procedures['nearest_concepts'] = sigtap_procedures['nearest_concepts'].apply(\n",
        "    lambda x: extract_element_from_tuple_list(x)\n",
        ")"
      ]
    },
    {
      "cell_type": "markdown",
      "metadata": {
        "id": "-c1tMp6kUWLg"
      },
      "source": [
        "#### Medicines"
      ]
    },
    {
      "cell_type": "code",
      "execution_count": null,
      "metadata": {
        "id": "Cpt9XmS1UWLg"
      },
      "outputs": [],
      "source": [
        "# 369 rows (SIGTAP meds)\n",
        "sigtap_meds = sigtap_df[sigtap_df.ID.str[:2] == '06'].copy()"
      ]
    },
    {
      "cell_type": "code",
      "execution_count": null,
      "metadata": {
        "id": "YCVAONARUWLi"
      },
      "outputs": [],
      "source": [
        "# sigtap_meds['Name'] = sigtap_meds['Name'].str.lower()"
      ]
    },
    {
      "cell_type": "code",
      "execution_count": null,
      "metadata": {
        "id": "7p3o4mcmUWLk"
      },
      "outputs": [],
      "source": [
        "# Annotated 514 SIGTAP meds\n",
        "len(sigtap_meds[~sigtap_meds.conceptId.isna()])"
      ]
    },
    {
      "cell_type": "code",
      "execution_count": null,
      "metadata": {
        "id": "bCoOJmuoUWLl"
      },
      "outputs": [],
      "source": [
        "sigtap_meds[['nearest_concepts', 'matched']] = sigtap_meds.progress_apply(search_concepts, axis=1, result_type='expand')"
      ]
    },
    {
      "cell_type": "code",
      "execution_count": null,
      "metadata": {
        "id": "zfB1C4-PUWLm"
      },
      "outputs": [],
      "source": [
        "print('Total annotated = ', len(sigtap_meds[~sigtap_meds.conceptId.isna()]))\n",
        "print('Number of matches (all candidates) = ', len(sigtap_meds[sigtap_meds.matched == True]))"
      ]
    },
    {
      "cell_type": "code",
      "execution_count": null,
      "metadata": {
        "id": "eFpXM_enUWLm"
      },
      "outputs": [],
      "source": [
        "sigtap_meds[(sigtap_meds.matched == False) & (~sigtap_meds.conceptId.isna())]"
      ]
    },
    {
      "cell_type": "code",
      "execution_count": null,
      "metadata": {
        "id": "fhADj_UlUWLn"
      },
      "outputs": [],
      "source": [
        "sigtap_meds.to_csv('sigtap_meds_gte_candidates.csv', sep='\\t', index=False)"
      ]
    },
    {
      "cell_type": "markdown",
      "metadata": {
        "id": "Vfrimbf5UWLn"
      },
      "source": [
        "#### Fuzzy-based candidate filtering"
      ]
    },
    {
      "cell_type": "code",
      "execution_count": null,
      "metadata": {
        "id": "F73GDJMsUWLn"
      },
      "outputs": [],
      "source": [
        "!pip install python-Levenshtein"
      ]
    },
    {
      "cell_type": "code",
      "execution_count": null,
      "metadata": {
        "id": "qGzYdPsOUWLo"
      },
      "outputs": [],
      "source": [
        "import Levenshtein"
      ]
    },
    {
      "cell_type": "code",
      "execution_count": null,
      "metadata": {
        "id": "TvyXNWh5UWLo"
      },
      "outputs": [],
      "source": [
        "def calculate_levenshtein_distance(str1, str2):\n",
        "    return jellyfish.levenshtein_distance(str1.lower(), str2.lower())\n",
        "    # return jellyfish.damerau_levenshtein_distance(str1.lower(), str2.lower())"
      ]
    },
    {
      "cell_type": "code",
      "execution_count": null,
      "metadata": {
        "id": "4tk2AlOjUWLp"
      },
      "outputs": [],
      "source": [
        "from nltk.metrics import jaccard_distance"
      ]
    },
    {
      "cell_type": "code",
      "execution_count": null,
      "metadata": {
        "id": "QDeBw1ReUWLp"
      },
      "outputs": [],
      "source": [
        "def calculate_jaccard_similarity(set1, set2):\n",
        "    set1 = set(set1.lower().split())\n",
        "    set2 = set(set2.lower().split())\n",
        "    return 1 - jaccard_distance(set1, set2)"
      ]
    },
    {
      "cell_type": "code",
      "execution_count": null,
      "metadata": {
        "id": "yyUvAqY3UWLq"
      },
      "outputs": [],
      "source": [
        "import jellyfish"
      ]
    },
    {
      "cell_type": "code",
      "execution_count": null,
      "metadata": {
        "id": "YBprMPjrUWLs"
      },
      "outputs": [],
      "source": [
        "def calculate_jaro_winkler_distance(str1, str2):\n",
        "    return 1 - jellyfish.jaro_similarity(str1.lower(), str2.lower())"
      ]
    },
    {
      "cell_type": "code",
      "execution_count": null,
      "metadata": {
        "id": "Ml-9T9WeUWLs"
      },
      "outputs": [],
      "source": [
        "from fuzzywuzzy import fuzz"
      ]
    },
    {
      "cell_type": "code",
      "execution_count": null,
      "metadata": {
        "id": "zhyPXioGUWLu"
      },
      "outputs": [],
      "source": [
        "def calculate_fuzzy_distance(str1, str2):\n",
        "    # return fuzz.ratio(str1.lower(), str2.lower())\n",
        "    # return fuzz.partial_ratio(str1.lower(), str2.lower())\n",
        "    # return fuzz.token_sort_ratio(str1.lower(), str2.lower())\n",
        "    return fuzz.token_set_ratio(str1.lower(), str2.lower())\n",
        "    # return jellyfish.levenshtein_distance(str1.lower(), str2.lower())"
      ]
    },
    {
      "cell_type": "code",
      "execution_count": null,
      "metadata": {
        "id": "gzMzM2kvUWLv"
      },
      "outputs": [],
      "source": [
        "def rank_candidates_procs(row):\n",
        "    name = row['Name']\n",
        "    # name = row['Name']\n",
        "    candidates = row['nearest_concepts']\n",
        "\n",
        "    # distances = [(candidate[0], candidate[2], calculate_fuzzy_distance(name, candidate[0])) for candidate in candidates]\n",
        "    distances = [(candidate[0], candidate[2], calculate_fuzzy_distance(name, f'{candidate[0]} {candidate[1].replace(\" £ \", \" \")}')) for candidate in candidates]\n",
        "    # distances = [(candidate[0], candidate[2], candidate[3]) for candidate in candidates]\n",
        "\n",
        "    sorted_distances = sorted(distances, key=lambda x: x[2], reverse=True)[:50]\n",
        "\n",
        "    sorted_candidates = [candidate[1] for candidate in sorted_distances]\n",
        "\n",
        "    ranked_matched = bool(set(sorted_candidates).intersection(set(row.conceptId))) if row.conceptId else False\n",
        "\n",
        "    return (sorted_distances, ranked_matched)"
      ]
    },
    {
      "cell_type": "code",
      "execution_count": null,
      "metadata": {
        "id": "16IJ3aJTUWLv"
      },
      "outputs": [],
      "source": [
        "def rank_candidates(row):\n",
        "    name = row['Name']\n",
        "    candidates = row['nearest_concepts']\n",
        "\n",
        "    distances = [(candidate[0], candidate[1], calculate_fuzzy_distance(name, candidate[0])) for candidate in candidates]\n",
        "\n",
        "    sorted_distances = sorted(distances, key=lambda x: x[1], reverse=True)[:50]\n",
        "\n",
        "    sorted_candidates = [candidate[1] for candidate in sorted_distances]\n",
        "\n",
        "    ranked_matched = bool(set(sorted_candidates).intersection(set(row.conceptId))) if row.conceptId else False\n",
        "\n",
        "    return (sorted_distances, ranked_matched)"
      ]
    },
    {
      "cell_type": "code",
      "execution_count": null,
      "metadata": {
        "id": "AS2EFiAdUWLw"
      },
      "outputs": [],
      "source": [
        "sigtap_procedures[['ranked_concepts', 'ranked_matched']] = sigtap_procedures.progress_apply(rank_candidates_procs, axis=1, result_type='expand')"
      ]
    },
    {
      "cell_type": "code",
      "execution_count": null,
      "metadata": {
        "id": "vRQFWkDNUWLw"
      },
      "outputs": [],
      "source": [
        "print('Number of matches (filtered candidates) = ', len(sigtap_procedures[sigtap_procedures.ranked_matched == True]))"
      ]
    },
    {
      "cell_type": "code",
      "execution_count": null,
      "metadata": {
        "id": "9mHfY5QhUWLy"
      },
      "outputs": [],
      "source": [
        "sigtap_meds[['ranked_concepts', 'ranked_matched']] = sigtap_meds.progress_apply(rank_candidates, axis=1, result_type='expand')"
      ]
    },
    {
      "cell_type": "code",
      "execution_count": null,
      "metadata": {
        "id": "8WlWi4CLUWLz"
      },
      "outputs": [],
      "source": [
        "print('Number of matches (filtered candidates) = ', len(sigtap_meds[sigtap_meds.ranked_matched == True]))"
      ]
    },
    {
      "cell_type": "code",
      "execution_count": null,
      "metadata": {
        "id": "INyOh4jAUWL1"
      },
      "outputs": [],
      "source": [
        "sigtap_meds.to_csv('sigtap_meds_candidates.csv', sep='\\t', index=False)"
      ]
    },
    {
      "cell_type": "markdown",
      "metadata": {
        "id": "maAb7cuzUWMF"
      },
      "source": [
        "#### Filtered candidates"
      ]
    },
    {
      "cell_type": "code",
      "execution_count": null,
      "metadata": {
        "id": "3OIYfSuDUWMG"
      },
      "outputs": [],
      "source": [
        "from tqdm.notebook import tqdm\n",
        "tqdm.pandas()"
      ]
    },
    {
      "cell_type": "code",
      "execution_count": null,
      "metadata": {
        "id": "muvPHHIrUWMG"
      },
      "outputs": [],
      "source": [
        "import ast\n",
        "import pandas as pd"
      ]
    },
    {
      "cell_type": "code",
      "execution_count": null,
      "metadata": {
        "id": "ZRoZuhaFUWMH"
      },
      "outputs": [],
      "source": [
        "index_to_data = omop_df.set_index('concept_id')['concept_name'].to_dict()"
      ]
    },
    {
      "cell_type": "code",
      "execution_count": null,
      "metadata": {
        "id": "9iNcjoNrUWMH"
      },
      "outputs": [],
      "source": [
        "sigtap_meds = pd.read_csv('sigtap_meds_candidates.csv', sep='\\t', header=0,\n",
        "                         converters={'ID': str, 'sourceCode': str})"
      ]
    },
    {
      "cell_type": "code",
      "execution_count": null,
      "metadata": {
        "id": "3ufdl9PfUWMJ"
      },
      "outputs": [],
      "source": [
        "def safe_literal_eval(x):\n",
        "    try:\n",
        "        return ast.literal_eval(x) if pd.notna(x) else None\n",
        "    except (ValueError, SyntaxError):\n",
        "        return []"
      ]
    },
    {
      "cell_type": "code",
      "execution_count": null,
      "metadata": {
        "id": "T0GGMyxpUWMK"
      },
      "outputs": [],
      "source": [
        "sigtap_meds['conceptId'] = sigtap_meds['conceptId'].apply(safe_literal_eval)\n",
        "sigtap_meds['nearest_concepts'] = sigtap_meds['nearest_concepts'].apply(safe_literal_eval)"
      ]
    },
    {
      "cell_type": "code",
      "execution_count": null,
      "metadata": {
        "id": "2QXydt4pUWMK"
      },
      "outputs": [],
      "source": [
        "sigtap_procedures = pd.read_csv('sigtap_procedures_candidates.csv', sep='\\t', header=0,\n",
        "                         converters={'ID': str, 'sourceCode': str})"
      ]
    },
    {
      "cell_type": "code",
      "execution_count": null,
      "metadata": {
        "id": "aIvu9O3IUWML"
      },
      "outputs": [],
      "source": [
        "sigtap_procedures['conceptId'] = sigtap_procedures['conceptId'].apply(safe_literal_eval)\n",
        "sigtap_procedures['nearest_concepts'] = sigtap_procedures['nearest_concepts'].apply(safe_literal_eval)"
      ]
    },
    {
      "cell_type": "code",
      "execution_count": null,
      "metadata": {
        "id": "WhROaB4bUWML"
      },
      "outputs": [],
      "source": [
        "def query_concept_name(concepts):\n",
        "    return [(concept[0],\n",
        "             index_to_data[concept[0]],\n",
        "            concept[1]) for concept in concepts]"
      ]
    },
    {
      "cell_type": "code",
      "execution_count": null,
      "metadata": {
        "id": "91taPkpuUWMM"
      },
      "outputs": [],
      "source": [
        "sigtap_meds['nearest_concepts'] = sigtap_meds['nearest_concepts'].progress_apply(query_concept_name)"
      ]
    },
    {
      "cell_type": "code",
      "execution_count": null,
      "metadata": {
        "id": "tJLKLYbgUWMM"
      },
      "outputs": [],
      "source": [
        "sigtap_procedures['nearest_concepts'] = sigtap_procedures['nearest_concepts'].progress_apply(query_concept_name)"
      ]
    },
    {
      "cell_type": "code",
      "execution_count": null,
      "metadata": {
        "id": "Jg27ykDpUWMO"
      },
      "outputs": [],
      "source": [
        "sigtap_meds.to_csv('sigtap_meds_candidates_names.csv', sep='\\t', index=False)"
      ]
    },
    {
      "cell_type": "code",
      "execution_count": null,
      "metadata": {
        "id": "iDN-oFOFUWMO"
      },
      "outputs": [],
      "source": [
        "sigtap_procedures.to_csv('sigtap_procedures_candidates_names.csv', sep='\\t', index=False)"
      ]
    },
    {
      "cell_type": "markdown",
      "metadata": {
        "id": "V3SNyWxSUWMi"
      },
      "source": [
        "#### Fuzzy matching baseline"
      ]
    },
    {
      "cell_type": "code",
      "execution_count": null,
      "metadata": {
        "id": "TeDHY-3SUWMi"
      },
      "outputs": [],
      "source": [
        "!pip install thefuzz==0.20.0"
      ]
    },
    {
      "cell_type": "code",
      "execution_count": null,
      "metadata": {
        "id": "ig8cMsrcUWMi"
      },
      "outputs": [],
      "source": [
        "from thefuzz import fuzz\n",
        "import jellyfish"
      ]
    },
    {
      "cell_type": "code",
      "execution_count": null,
      "metadata": {
        "id": "76siZjhYUWMn"
      },
      "outputs": [],
      "source": [
        "def calculate_fuzzy_distance(str1, str2):\n",
        "    # return fuzz.ratio(str1.lower(), str2.lower())\n",
        "    # return fuzz.partial_ratio(str1.lower(), str2.lower())\n",
        "    # return fuzz.token_sort_ratio(str1.lower(), str2.lower())\n",
        "    return fuzz.token_set_ratio(str1.lower(), str2.lower())\n",
        "    # return jellyfish.levenshtein_distance(str1.lower(), str2.lower())"
      ]
    },
    {
      "cell_type": "code",
      "execution_count": null,
      "metadata": {
        "id": "JEr9XDGqUWMo"
      },
      "outputs": [],
      "source": [
        "def rank_candidates(row):\n",
        "    name = row['Name']\n",
        "\n",
        "    omop_df['fuzzy_distance'] = omop_df['concept_name'].apply(lambda concept_name: calculate_fuzzy_distance(name, concept_name))\n",
        "\n",
        "    distances = [(candidate.concept_id, candidate.concept_name,\n",
        "                  candidate.fuzzy_distance) for index, candidate in omop_df.nlargest(50, 'fuzzy_distance').iterrows()]\n",
        "\n",
        "    sorted_candidates = [candidate[0] for candidate in distances]\n",
        "\n",
        "    ranked_matched = bool(set(sorted_candidates).intersection(set(row.conceptId))) if row.conceptId else False\n",
        "\n",
        "    return (distances, ranked_matched)"
      ]
    },
    {
      "cell_type": "code",
      "execution_count": null,
      "metadata": {
        "id": "l_c-RxbFUWMp"
      },
      "outputs": [],
      "source": [
        "sigtap_meds[['ranked_concepts', 'ranked_matched']] = sigtap_meds.progress_apply(rank_candidates, axis=1, result_type='expand')"
      ]
    },
    {
      "cell_type": "code",
      "execution_count": null,
      "metadata": {
        "id": "PpFNh8j2UWMq"
      },
      "outputs": [],
      "source": [
        "print('Number of matches (filtered candidates) = ', len(sigtap_meds[sigtap_meds.ranked_matched == True]))"
      ]
    },
    {
      "cell_type": "code",
      "execution_count": null,
      "metadata": {
        "id": "jxBCBM6dUWMt"
      },
      "outputs": [],
      "source": [
        "sigtap_meds.to_csv('sigtap_meds_fuzzy_candidates.csv', sep='\\t', index=False)"
      ]
    },
    {
      "cell_type": "code",
      "execution_count": null,
      "metadata": {
        "id": "TtAkOGv4UWMv"
      },
      "outputs": [],
      "source": []
    }
  ],
  "metadata": {
    "colab": {
      "provenance": []
    },
    "kernelspec": {
      "display_name": "Python 3 (ipykernel)",
      "language": "python",
      "name": "python3"
    },
    "language_info": {
      "codemirror_mode": {
        "name": "ipython",
        "version": 3
      },
      "file_extension": ".py",
      "mimetype": "text/x-python",
      "name": "python",
      "nbconvert_exporter": "python",
      "pygments_lexer": "ipython3",
      "version": "3.10.12"
    }
  },
  "nbformat": 4,
  "nbformat_minor": 0
}