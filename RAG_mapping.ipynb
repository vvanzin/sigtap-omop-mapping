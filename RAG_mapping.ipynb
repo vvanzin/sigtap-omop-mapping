{
  "cells": [
    {
      "cell_type": "markdown",
      "source": [
        "### Local LLM - RAG pipeline"
      ],
      "metadata": {
        "id": "Sv53jYtLp7LM"
      },
      "id": "Sv53jYtLp7LM"
    },
    {
      "cell_type": "code",
      "execution_count": null,
      "id": "41175cb0-e27d-4246-ba2d-c2b409d42a6c",
      "metadata": {
        "id": "41175cb0-e27d-4246-ba2d-c2b409d42a6c"
      },
      "outputs": [],
      "source": [
        "import ast\n",
        "import pandas as pd\n",
        "from tqdm.notebook import tqdm\n",
        "tqdm.pandas()"
      ]
    },
    {
      "cell_type": "code",
      "execution_count": null,
      "id": "b6a883e3-cbf3-4030-abd2-dd049cf97165",
      "metadata": {
        "id": "b6a883e3-cbf3-4030-abd2-dd049cf97165"
      },
      "outputs": [],
      "source": [
        "sigtap_meds = pd.read_csv('<Filtered candidates>.csv', sep='\\t',\n",
        "                      header=0, converters={'ID': str, 'sourceCode': str})"
      ]
    },
    {
      "cell_type": "code",
      "execution_count": null,
      "id": "44cf15bf-b144-4af7-bc1e-1076b747011d",
      "metadata": {
        "id": "44cf15bf-b144-4af7-bc1e-1076b747011d"
      },
      "outputs": [],
      "source": [
        "def safe_literal_eval(x):\n",
        "    try:\n",
        "        return ast.literal_eval(x) if pd.notna(x) else None\n",
        "    except (ValueError, SyntaxError):\n",
        "        return []"
      ]
    },
    {
      "cell_type": "code",
      "execution_count": null,
      "id": "1c07cf08-c91e-425b-8417-d83c0c88ef18",
      "metadata": {
        "id": "1c07cf08-c91e-425b-8417-d83c0c88ef18"
      },
      "outputs": [],
      "source": [
        "sigtap_meds['conceptId'] = sigtap_meds['conceptId'].progress_apply(safe_literal_eval)\n",
        "sigtap_meds['nearest_concepts'] = sigtap_meds['nearest_concepts'].progress_apply(safe_literal_eval)"
      ]
    },
    {
      "cell_type": "code",
      "execution_count": null,
      "id": "6c071a90-a080-48ba-83d1-b12724d3d679",
      "metadata": {
        "id": "6c071a90-a080-48ba-83d1-b12724d3d679"
      },
      "outputs": [],
      "source": [
        "sigtap_meds"
      ]
    },
    {
      "cell_type": "code",
      "execution_count": null,
      "id": "3d964800-3fb0-41ce-a36f-6f951445408c",
      "metadata": {
        "id": "3d964800-3fb0-41ce-a36f-6f951445408c"
      },
      "outputs": [],
      "source": [
        "from llama_cpp import Llama, LlamaGrammar"
      ]
    },
    {
      "cell_type": "code",
      "execution_count": null,
      "id": "fe3d81a4-e0ad-4df9-9ce0-2414d97628f0",
      "metadata": {
        "id": "fe3d81a4-e0ad-4df9-9ce0-2414d97628f0"
      },
      "outputs": [],
      "source": [
        "# llm = Llama(model_path=\"./path_to_model/llama-2-7b-chat.Q8_0.gguf\", n_ctx=4096, n_gpu_layers=32)\n",
        "# llm = Llama(model_path=\"./path_to_model/llama-2-13b-chat.Q6_K.gguf\", n_ctx=4096, n_gpu_layers=36)\n",
        "llm = Llama(model_path=\"./path_to_model/mistral-7b-openorca.Q8_0.gguf\", n_ctx=4096, n_gpu_layers=32)"
      ]
    },
    {
      "cell_type": "code",
      "execution_count": null,
      "id": "0076c263-42de-4a81-86b8-0d99588a9ebb",
      "metadata": {
        "id": "0076c263-42de-4a81-86b8-0d99588a9ebb"
      },
      "outputs": [],
      "source": [
        "grammar = LlamaGrammar.from_file(\"./path_to_grammar/json_no_numbers.gbnf\")"
      ]
    },
    {
      "cell_type": "code",
      "execution_count": null,
      "id": "d86adb82-52ca-40eb-88dc-42766f33659e",
      "metadata": {
        "id": "d86adb82-52ca-40eb-88dc-42766f33659e"
      },
      "outputs": [],
      "source": [
        "import json"
      ]
    },
    {
      "cell_type": "code",
      "execution_count": null,
      "id": "5434103d-2d6f-41aa-8d87-ebc55fc718b7",
      "metadata": {
        "id": "5434103d-2d6f-41aa-8d87-ebc55fc718b7"
      },
      "outputs": [],
      "source": [
        "from thefuzz import fuzz"
      ]
    },
    {
      "cell_type": "code",
      "execution_count": null,
      "id": "cb714c5e-ba2f-4668-93c0-cc21ac74b716",
      "metadata": {
        "id": "cb714c5e-ba2f-4668-93c0-cc21ac74b716"
      },
      "outputs": [],
      "source": [
        "def calculate_fuzzy_distance(str1, str2):\n",
        "    return fuzz.ratio(str1.lower(), str2.lower())"
      ]
    },
    {
      "cell_type": "code",
      "execution_count": null,
      "id": "8145f11c-89fd-43ad-908a-f197eeca1757",
      "metadata": {
        "id": "8145f11c-89fd-43ad-908a-f197eeca1757"
      },
      "outputs": [],
      "source": [
        "def rank_candidates(row):\n",
        "    name = row['Name']\n",
        "    candidates = row['nearest_concepts']\n",
        "\n",
        "    # MPNET embeddings\n",
        "    # distances = [(candidate[0], candidate[1], calculate_fuzzy_distance(name, candidate[1])) for candidate in candidates]\n",
        "    # GTE embeddings\n",
        "    distances = [(candidate[1], candidate[0], calculate_fuzzy_distance(name, candidate[0])) for candidate in candidates]\n",
        "\n",
        "    sorted_distances = sorted(distances, key=lambda x: x[2], reverse=True)[:50]\n",
        "\n",
        "    sorted_candidates = [candidate[0] for candidate in sorted_distances]\n",
        "\n",
        "    ranked_matched = bool(set(sorted_candidates).intersection(set(row.conceptId))) if row.conceptId else False\n",
        "\n",
        "    return (sorted_distances, ranked_matched)"
      ]
    },
    {
      "cell_type": "code",
      "execution_count": null,
      "id": "220bdaee-8137-44a2-ac48-3a76cba43e9c",
      "metadata": {
        "id": "220bdaee-8137-44a2-ac48-3a76cba43e9c"
      },
      "outputs": [],
      "source": [
        "sigtap_meds[['ranked_concepts', 'ranked_matched']] = sigtap_meds.progress_apply(rank_candidates, axis=1, result_type='expand')"
      ]
    },
    {
      "cell_type": "code",
      "execution_count": null,
      "id": "fd68d8e5-c33d-46b6-af83-752040c1278a",
      "metadata": {
        "id": "fd68d8e5-c33d-46b6-af83-752040c1278a"
      },
      "outputs": [],
      "source": [
        "print('Number of matches (filtered candidates) = ', len(sigtap_meds[sigtap_meds.ranked_matched == True]))"
      ]
    },
    {
      "cell_type": "code",
      "execution_count": null,
      "id": "4592da1a-6af4-42b7-a31c-47bca677bdc3",
      "metadata": {
        "id": "4592da1a-6af4-42b7-a31c-47bca677bdc3"
      },
      "outputs": [],
      "source": [
        "def query_llm(row):\n",
        "    if not row.ranked_matched:\n",
        "        return \"\"\n",
        "    candidate_list = '\\n'.join([f\"{concept[0]} - {concept[1]}\" for concept in row.ranked_concepts][:50])\n",
        "    # LLaMA\n",
        "    query = f\"\"\"[INST] <<SYS>>\n",
        "You are a helpful assistant.\n",
        "It does not matter whether the given term is a valid or complete medical term, your task is finding the closest one in the list.\n",
        "Return your answer in JSON with the format {{\"answer\": \"<numeric code>\"}}\n",
        "Copy the exact code in the answer.\n",
        "<</SYS>>\n",
        "Q: The given term \"{row.Name.strip()}\" is closest to which of the following alternatives:\n",
        "{candidate_list}\n",
        "A:\n",
        "[/INST]\"\"\"\n",
        "    # Mistral OpenOrca\n",
        "#     query = f\"\"\"<|im_start|>system\n",
        "# You are a helpful assistant.\n",
        "# It does not matter whether the given term is a valid or complete medical term, your task is finding the closest one in the list.\n",
        "# Return your answer in JSON with the format {{\"answer\": \"<numeric code>\"}}\n",
        "# Copy the exact code in the answer.<|im_end|>\n",
        "# <|im_start|>user\n",
        "# Q: The given term \"{row.Name.strip()}\" is closest to which of the following alternatives:\n",
        "# {candidate_list}<|im_end|>\n",
        "# <|im_start|>assistant\"\"\"\n",
        "    try:\n",
        "        output = llm(query, max_tokens=32, grammar=grammar, echo=False, temperature=0)\n",
        "    except:\n",
        "        return \"Exception: context too long\"\n",
        "    return output['choices'][0]['text']"
      ]
    },
    {
      "cell_type": "code",
      "execution_count": null,
      "id": "1f8cdb4e-3940-45c8-afb6-dee915d85c71",
      "metadata": {
        "id": "1f8cdb4e-3940-45c8-afb6-dee915d85c71"
      },
      "outputs": [],
      "source": [
        "sigtap_meds['llm_output'] = sigtap_meds.progress_apply(query_llm, axis=1)"
      ]
    },
    {
      "cell_type": "code",
      "execution_count": null,
      "id": "c6c09fad-91c7-4bdc-8533-e556b16b64b9",
      "metadata": {
        "id": "c6c09fad-91c7-4bdc-8533-e556b16b64b9"
      },
      "outputs": [],
      "source": [
        "sigtap_meds"
      ]
    },
    {
      "cell_type": "code",
      "execution_count": null,
      "id": "68dbbf9b-a3e4-4add-8b25-30bd677b9c85",
      "metadata": {
        "id": "68dbbf9b-a3e4-4add-8b25-30bd677b9c85"
      },
      "outputs": [],
      "source": [
        "import json\n",
        "import re\n",
        "\n",
        "pattern = r'\\b(\\d{6,})\\b'"
      ]
    },
    {
      "cell_type": "code",
      "execution_count": null,
      "id": "27f5ff6c-63f3-48cb-9cac-23e724c6524c",
      "metadata": {
        "id": "27f5ff6c-63f3-48cb-9cac-23e724c6524c"
      },
      "outputs": [],
      "source": [
        "def parse_llm_output(row):\n",
        "    if not row.llm_output:\n",
        "        return False\n",
        "\n",
        "    llm_concept = ''\n",
        "    try:\n",
        "        llm_concept = json.loads(row.llm_output).get('answer')\n",
        "    except:\n",
        "        pass\n",
        "\n",
        "    if type(llm_concept) == dict:\n",
        "        llm_concept = list(llm_concept.values())[0]\n",
        "\n",
        "    if not llm_concept.isnumeric():\n",
        "        llm_match = re.search(pattern, row.llm_output)\n",
        "        if llm_match:\n",
        "            llm_concept = llm_match.group(0)\n",
        "        else:\n",
        "            return False\n",
        "\n",
        "    llm_matched = bool(set([llm_concept]).intersection(set(row.conceptId))) if row.conceptId else False\n",
        "\n",
        "    return llm_matched"
      ]
    },
    {
      "cell_type": "code",
      "execution_count": null,
      "id": "e52c63ca-3eff-42f7-9a86-f283fa470d98",
      "metadata": {
        "id": "e52c63ca-3eff-42f7-9a86-f283fa470d98"
      },
      "outputs": [],
      "source": [
        "sigtap_meds['llm_match'] = sigtap_meds.progress_apply(parse_llm_output, axis=1)"
      ]
    },
    {
      "cell_type": "code",
      "execution_count": null,
      "id": "9468d897-9d46-4f80-b9e8-352b5a258806",
      "metadata": {
        "id": "9468d897-9d46-4f80-b9e8-352b5a258806"
      },
      "outputs": [],
      "source": [
        "print('Number of matches (LLM candidates) = ', len(sigtap_meds[sigtap_meds.llm_match == True]))"
      ]
    },
    {
      "cell_type": "code",
      "execution_count": null,
      "id": "80736b3e-79fb-4282-99f4-c4cc16d4def0",
      "metadata": {
        "id": "80736b3e-79fb-4282-99f4-c4cc16d4def0"
      },
      "outputs": [],
      "source": [
        "sigtap_meds['has_match'] = sigtap_meds['llm_output'].str.extract(pattern)"
      ]
    },
    {
      "cell_type": "code",
      "execution_count": null,
      "id": "77c25269-1869-4cb2-8752-ddc535be455c",
      "metadata": {
        "id": "77c25269-1869-4cb2-8752-ddc535be455c"
      },
      "outputs": [],
      "source": [
        "print('Number of pattern matches = ', len(sigtap_meds[~sigtap_meds.has_match.isna()]))"
      ]
    },
    {
      "cell_type": "code",
      "execution_count": null,
      "id": "2fb09f46-71c0-4589-8e78-e85072f52cf4",
      "metadata": {
        "id": "2fb09f46-71c0-4589-8e78-e85072f52cf4"
      },
      "outputs": [],
      "source": [
        "sigtap_meds.to_csv('sigtap_meds_llama_13b_notemp_grammar.csv', sep='\\t', index=False)"
      ]
    },
    {
      "cell_type": "code",
      "execution_count": null,
      "id": "b6e2b2e5-9c67-4401-a802-24b322667924",
      "metadata": {
        "id": "b6e2b2e5-9c67-4401-a802-24b322667924"
      },
      "outputs": [],
      "source": [
        "json_answers = []\n",
        "for index, row in sigtap_meds.iterrows():\n",
        "    if '\"answer\"' in row.llm_output:\n",
        "        json_answers.append(row.llm_output)\n",
        "print(len(json_answers))"
      ]
    },
    {
      "cell_type": "markdown",
      "id": "65b965d8-d10e-46a3-922a-a9ea7ea79682",
      "metadata": {
        "id": "65b965d8-d10e-46a3-922a-a9ea7ea79682"
      },
      "source": [
        "#### Remote LLM - Maritalk API"
      ]
    },
    {
      "cell_type": "code",
      "execution_count": null,
      "id": "84d1821f-35e4-48f9-84c0-2c2dc3f832d1",
      "metadata": {
        "id": "84d1821f-35e4-48f9-84c0-2c2dc3f832d1"
      },
      "outputs": [],
      "source": [
        "import maritalk"
      ]
    },
    {
      "cell_type": "code",
      "execution_count": null,
      "id": "a55b38fc-47ea-49b7-b934-2e7487823243",
      "metadata": {
        "id": "a55b38fc-47ea-49b7-b934-2e7487823243"
      },
      "outputs": [],
      "source": [
        "import time"
      ]
    },
    {
      "cell_type": "code",
      "execution_count": null,
      "id": "ab7bfc51-5433-4125-b276-147b643ecbfd",
      "metadata": {
        "id": "ab7bfc51-5433-4125-b276-147b643ecbfd"
      },
      "outputs": [],
      "source": [
        "model = maritalk.MariTalk(key=\"<MARITALK API KEY>\")"
      ]
    },
    {
      "cell_type": "code",
      "execution_count": null,
      "id": "00925ab4-0d86-4097-bb49-a8ce88f1b2cf",
      "metadata": {
        "id": "00925ab4-0d86-4097-bb49-a8ce88f1b2cf"
      },
      "outputs": [],
      "source": [
        "def query_external_llm(row):\n",
        "    if not row.ranked_matched:\n",
        "        return \"\"\n",
        "    candidate_list = '\\n'.join([f\"{concept[0]} - {concept[1]}\" for concept in row.ranked_concepts][:50])\n",
        "    query = f\"\"\"You are a helpful assistant.\n",
        "It does not matter whether the given term is a valid or complete medical term, your task is finding the closest one in the list.\n",
        "Return your answer in JSON with the format {{\"answer\": \"<numeric code>\"}}\n",
        "Copy the exact code in the answer.\n",
        "Q: The given term \"{row.Name.strip()}\" is closest to which of the following alternatives:\n",
        "{candidate_list}\n",
        "A:\"\"\"\n",
        "    # External API rate limit = 5 seconds\n",
        "    time.sleep(5)\n",
        "    try:\n",
        "        output = model.generate(query, max_tokens=32, do_sample=False)\n",
        "    except:\n",
        "        return \"Exception: context too long\"\n",
        "    return output"
      ]
    },
    {
      "cell_type": "code",
      "execution_count": null,
      "id": "15f89b75-b0df-4f43-ade6-20dee3c22875",
      "metadata": {
        "id": "15f89b75-b0df-4f43-ade6-20dee3c22875"
      },
      "outputs": [],
      "source": [
        "sigtap_meds['llm_output'] = sigtap_meds.progress_apply(query_external_llm, axis=1)"
      ]
    },
    {
      "cell_type": "code",
      "execution_count": null,
      "id": "4a4fb87f-3d7d-40d2-9e1a-55dad2592c8e",
      "metadata": {
        "id": "4a4fb87f-3d7d-40d2-9e1a-55dad2592c8e"
      },
      "outputs": [],
      "source": [
        "sigtap_meds['has_match'] = sigtap_meds['llm_output'].str.extract(pattern)"
      ]
    },
    {
      "cell_type": "code",
      "execution_count": null,
      "id": "3e823571-6b18-4158-b62c-04ce348d16c7",
      "metadata": {
        "id": "3e823571-6b18-4158-b62c-04ce348d16c7"
      },
      "outputs": [],
      "source": [
        "print('Number of pattern matches = ', len(sigtap_meds[~sigtap_meds.has_match.isna()]))"
      ]
    },
    {
      "cell_type": "code",
      "execution_count": null,
      "id": "be8a723b-ac99-44c3-aa5f-9560683192ce",
      "metadata": {
        "id": "be8a723b-ac99-44c3-aa5f-9560683192ce"
      },
      "outputs": [],
      "source": [
        "def parse_llm_output(row):\n",
        "    if not row.llm_output:\n",
        "        return False\n",
        "\n",
        "    llm_concept = ''\n",
        "    try:\n",
        "        llm_concept = json.loads(row.llm_output).get('answer')\n",
        "    except:\n",
        "        pass\n",
        "\n",
        "    if type(llm_concept) == int:\n",
        "        llm_concept = str(llm_concept)\n",
        "\n",
        "    if type(llm_concept) == dict:\n",
        "        llm_concept = list(llm_concept.values())[0]\n",
        "\n",
        "    if not llm_concept.isnumeric():\n",
        "        llm_match = re.search(pattern, row.llm_output)\n",
        "        if llm_match:\n",
        "            llm_concept = llm_match.group(0)\n",
        "        else:\n",
        "            return False\n",
        "\n",
        "    llm_matched = bool(set([llm_concept]).intersection(set(row.conceptId))) if row.conceptId else False\n",
        "\n",
        "    return llm_matched"
      ]
    },
    {
      "cell_type": "code",
      "execution_count": null,
      "id": "9a2e8131-7147-4155-8df6-63c814f5e761",
      "metadata": {
        "id": "9a2e8131-7147-4155-8df6-63c814f5e761"
      },
      "outputs": [],
      "source": [
        "sigtap_meds['llm_match'] = sigtap_meds.progress_apply(parse_llm_output, axis=1)"
      ]
    },
    {
      "cell_type": "code",
      "execution_count": null,
      "id": "06e89bff-faf2-4668-befb-77e6bfdcc056",
      "metadata": {
        "id": "06e89bff-faf2-4668-befb-77e6bfdcc056"
      },
      "outputs": [],
      "source": [
        "print('Number of matches (LLM candidates) = ', len(sigtap_meds[sigtap_meds.llm_match == True]))\n",
        "print('Ranked matches = ', len(sigtap_meds[sigtap_meds.ranked_matched == True]))"
      ]
    },
    {
      "cell_type": "code",
      "execution_count": null,
      "id": "dd200ffe-4809-4f7b-9ce9-1ff91e664541",
      "metadata": {
        "id": "dd200ffe-4809-4f7b-9ce9-1ff91e664541"
      },
      "outputs": [],
      "source": [
        "sigtap_meds.to_csv('sigtap_meds_maritalk_gte_json.csv', sep='\\t', index=False)"
      ]
    },
    {
      "cell_type": "code",
      "execution_count": null,
      "id": "846ab1ec-534c-4e94-97dc-7acf727a549d",
      "metadata": {
        "id": "846ab1ec-534c-4e94-97dc-7acf727a549d"
      },
      "outputs": [],
      "source": [
        "sigtap_meds"
      ]
    },
    {
      "cell_type": "markdown",
      "source": [
        "## Remote LLM - OpenAI GPT-4"
      ],
      "metadata": {
        "id": "9C-BPm9rNVoY"
      },
      "id": "9C-BPm9rNVoY"
    },
    {
      "cell_type": "code",
      "source": [
        "from langchain.chat_models.openai import ChatOpenAI\n",
        "from langchain.chains import LLMChain"
      ],
      "metadata": {
        "id": "nuaFdMUp7q7v"
      },
      "execution_count": null,
      "outputs": [],
      "id": "nuaFdMUp7q7v"
    },
    {
      "cell_type": "code",
      "source": [
        "llm = ChatOpenAI(openai_api_key=\"<OPENAI API KEY>\", temperature=0.0, model='gpt-4-1106-preview', max_tokens=32) # gpt-4 128k"
      ],
      "metadata": {
        "id": "s0vrx0-m7uNP"
      },
      "execution_count": null,
      "outputs": [],
      "id": "s0vrx0-m7uNP"
    },
    {
      "cell_type": "code",
      "execution_count": null,
      "metadata": {
        "id": "QWnMTfmJNaiy"
      },
      "outputs": [],
      "source": [
        "meds_subset = pd.read_csv('<Candidates subset>.csv', sep='\\t',\n",
        "                      header=0, converters={'ID': str, 'sourceCode': str})"
      ],
      "id": "QWnMTfmJNaiy"
    },
    {
      "cell_type": "code",
      "source": [
        "# Select only subset\n",
        "sigtap_meds = sigtap_meds[sigtap_meds['ID'].isin(meds_subset['ID'])].copy()"
      ],
      "metadata": {
        "id": "-4wXm_Hs0YwT"
      },
      "execution_count": null,
      "outputs": [],
      "id": "-4wXm_Hs0YwT"
    },
    {
      "cell_type": "code",
      "source": [
        "sigtap_meds"
      ],
      "metadata": {
        "id": "peptl4Iq4EuD"
      },
      "execution_count": null,
      "outputs": [],
      "id": "peptl4Iq4EuD"
    },
    {
      "cell_type": "code",
      "source": [
        "print('Number of matches = ', len(sigtap_meds[sigtap_meds.matched == True]))\n",
        "print('Number of matches (ranked) = ', len(sigtap_meds[sigtap_meds.ranked_matched == True]))"
      ],
      "metadata": {
        "id": "LcK1hhnk34Jl"
      },
      "execution_count": null,
      "outputs": [],
      "id": "LcK1hhnk34Jl"
    },
    {
      "cell_type": "code",
      "source": [
        "def query_external_llm(row):\n",
        "    if not row.ranked_matched:\n",
        "        return \"\"\n",
        "    candidate_list = '\\n'.join([f\"{concept[0]} - {concept[1]}\" for concept in row.ranked_concepts][:50])\n",
        "    query = f\"\"\"It does not matter whether the given term is a valid or complete medical term, your task is finding the closest one in the list.\n",
        "Return your answer in JSON with the format {{\"answer\": \"<numeric code>\"}}\n",
        "Copy the exact code in the answer.\n",
        "Q: The given term \"{row.Name.strip()}\" is closest to which of the following alternatives:\n",
        "{candidate_list}\n",
        "A:\"\"\"\n",
        "    # External API rate limit = 5 seconds\n",
        "    time.sleep(5)\n",
        "    try:\n",
        "        output = llm.invoke(query)\n",
        "    except:\n",
        "        return \"Exception: context too long\"\n",
        "    return output.content"
      ],
      "metadata": {
        "id": "XW0_UDkM2yTi"
      },
      "execution_count": null,
      "outputs": [],
      "id": "XW0_UDkM2yTi"
    },
    {
      "cell_type": "code",
      "source": [
        "sigtap_meds['llm_output'] = sigtap_meds[~sigtap_meds.nearest_concepts.isna()].progress_apply(query_external_llm, axis=1)"
      ],
      "metadata": {
        "id": "47C-8d7X5xSs"
      },
      "execution_count": null,
      "outputs": [],
      "id": "47C-8d7X5xSs"
    },
    {
      "cell_type": "code",
      "source": [
        "import re\n",
        "\n",
        "pattern = r'(\\d{6,})'"
      ],
      "metadata": {
        "id": "8lpW65RlA7kw"
      },
      "execution_count": null,
      "outputs": [],
      "id": "8lpW65RlA7kw"
    },
    {
      "cell_type": "code",
      "source": [
        "sigtap_meds['has_match'] = sigtap_meds['llm_output'].str.extract(pattern)"
      ],
      "metadata": {
        "id": "Ll-8_XM4AqBJ"
      },
      "execution_count": null,
      "outputs": [],
      "id": "Ll-8_XM4AqBJ"
    },
    {
      "cell_type": "code",
      "source": [
        "print('Number of pattern matches = ', len(sigtap_meds[~sigtap_meds.has_match.isna()]))"
      ],
      "metadata": {
        "id": "RJMuHKY7A-2G"
      },
      "execution_count": null,
      "outputs": [],
      "id": "RJMuHKY7A-2G"
    },
    {
      "cell_type": "code",
      "source": [
        "def parse_llm_output(row):\n",
        "    if not row.llm_output:\n",
        "        return False\n",
        "\n",
        "    llm_concept = ''\n",
        "    try:\n",
        "        llm_concept = json.loads(row.llm_output).get('answer')\n",
        "    except:\n",
        "        pass\n",
        "\n",
        "    if type(llm_concept) == int:\n",
        "        llm_concept = str(llm_concept)\n",
        "\n",
        "    if type(llm_concept) == dict:\n",
        "        llm_concept = list(llm_concept.values())[0]\n",
        "\n",
        "    if not llm_concept.isnumeric():\n",
        "        llm_match = re.search(pattern, row.llm_output)\n",
        "        if llm_match:\n",
        "            llm_concept = llm_match.group(0)\n",
        "        else:\n",
        "            return False\n",
        "\n",
        "    llm_matched = bool(set([llm_concept]).intersection(set(row.conceptId))) if row.conceptId else False\n",
        "\n",
        "    return llm_matched"
      ],
      "metadata": {
        "id": "FYkdmDbSCpbn"
      },
      "execution_count": null,
      "outputs": [],
      "id": "FYkdmDbSCpbn"
    },
    {
      "cell_type": "code",
      "source": [
        "sigtap_meds['llm_match'] = sigtap_meds[~sigtap_meds.nearest_concepts.isna()].progress_apply(parse_llm_output, axis=1)"
      ],
      "metadata": {
        "id": "G8eeHQFcFt8R"
      },
      "execution_count": null,
      "outputs": [],
      "id": "G8eeHQFcFt8R"
    },
    {
      "cell_type": "code",
      "source": [
        "print('Number of matches (LLM candidates) = ', len(sigtap_meds[sigtap_meds.llm_match == True]))"
      ],
      "metadata": {
        "id": "enRu-dwbFy53"
      },
      "execution_count": null,
      "outputs": [],
      "id": "enRu-dwbFy53"
    },
    {
      "cell_type": "code",
      "source": [
        "sigtap_meds"
      ],
      "metadata": {
        "id": "El-L9U0ZG8M0"
      },
      "execution_count": null,
      "outputs": [],
      "id": "El-L9U0ZG8M0"
    },
    {
      "cell_type": "code",
      "source": [
        "sigtap_meds.to_csv('sigtap_meds_gpt4_rag.csv', sep='\\t', index=False)"
      ],
      "metadata": {
        "id": "J5WH04ns6KYD"
      },
      "execution_count": null,
      "outputs": [],
      "id": "J5WH04ns6KYD"
    },
    {
      "cell_type": "code",
      "source": [],
      "metadata": {
        "id": "LkTNmEjmRGIS"
      },
      "id": "LkTNmEjmRGIS",
      "execution_count": null,
      "outputs": []
    }
  ],
  "metadata": {
    "kernelspec": {
      "display_name": "Python 3 (ipykernel)",
      "language": "python",
      "name": "python3"
    },
    "language_info": {
      "codemirror_mode": {
        "name": "ipython",
        "version": 3
      },
      "file_extension": ".py",
      "mimetype": "text/x-python",
      "name": "python",
      "nbconvert_exporter": "python",
      "pygments_lexer": "ipython3",
      "version": "3.10.12"
    },
    "colab": {
      "provenance": []
    }
  },
  "nbformat": 4,
  "nbformat_minor": 5
}