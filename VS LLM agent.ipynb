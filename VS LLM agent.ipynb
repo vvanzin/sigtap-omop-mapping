{
 "cells": [
  {
   "cell_type": "markdown",
   "id": "edc94823-5512-4c4c-ad2b-a49c3545d3fb",
   "metadata": {},
   "source": [
    "#### LangChain patches"
   ]
  },
  {
   "cell_type": "code",
   "execution_count": null,
   "id": "90749af3-9601-44d6-9fc3-c7b9a6c14542",
   "metadata": {},
   "outputs": [],
   "source": [
    "# Patches: LangChain\n",
    "# tools/vectorstore/tools.py -> _run\n",
    "# as_retriever() -->\n",
    "#   as_retriever(search_kwargs={\"k\": 15})\n",
    "\n",
    "# schema/vectorstore;py -> _get_relevant_documents\n",
    "# docs = self.vectorstore.similarity_search(query, **self.search_kwargs) -->\n",
    "#   docs = self.vectorstore.similarity_search(query, k=1000)[:self.search_kwargs.get(\"k\", 4)]"
   ]
  },
  {
   "cell_type": "markdown",
   "id": "8c8e0978-3ab3-4aab-98ff-08a3e9ab4e00",
   "metadata": {},
   "source": [
    "## Load vector store"
   ]
  },
  {
   "cell_type": "code",
   "execution_count": null,
   "id": "9f1ab962-ecbd-4014-aa1f-cacfd8b56880",
   "metadata": {},
   "outputs": [],
   "source": [
    "from langchain.embeddings.sentence_transformer import SentenceTransformerEmbeddings"
   ]
  },
  {
   "cell_type": "code",
   "execution_count": null,
   "id": "b55ee418-fb8c-4214-9a20-108de6671a7a",
   "metadata": {},
   "outputs": [],
   "source": [
    "# thenlper/gte-large\n",
    "embedding_function = SentenceTransformerEmbeddings(model_name='thenlper/gte-large')"
   ]
  },
  {
   "cell_type": "code",
   "execution_count": null,
   "id": "559a6878-49c0-4e9f-a3f3-336bbaafce7e",
   "metadata": {},
   "outputs": [],
   "source": [
    "import chromadb\n",
    "from langchain.vectorstores import Chroma"
   ]
  },
  {
   "cell_type": "code",
   "execution_count": null,
   "id": "56129111-738f-41b7-845c-65cfb67423c2",
   "metadata": {},
   "outputs": [],
   "source": [
    "chroma_client = chromadb.HttpClient(host='<CHROMA HOST>', port='<CHROMA PORT>')"
   ]
  },
  {
   "cell_type": "code",
   "execution_count": null,
   "id": "8ec1195a-3066-4ccd-b895-6630be71414d",
   "metadata": {},
   "outputs": [],
   "source": [
    "# chroma_gte_snomed_namesyns\n",
    "# chroma_gte_rxnorm_name\n",
    "chroma_db = Chroma(\n",
    "    collection_name='chroma_gte_snomed_namesyns',\n",
    "    embedding_function=embedding_function,\n",
    "    client=chroma_client,\n",
    "    collection_metadata={'hnsw:space': 'cosine'},\n",
    ")"
   ]
  },
  {
   "cell_type": "code",
   "execution_count": null,
   "id": "afc5185d-2bed-4cc2-be53-8b88099dbb0a",
   "metadata": {},
   "outputs": [],
   "source": [
    "chroma_db._collection.count()"
   ]
  },
  {
   "cell_type": "code",
   "execution_count": null,
   "id": "abafbd97-df49-451f-970d-bf1d13bd698c",
   "metadata": {},
   "outputs": [],
   "source": [
    "from langchain.agents.openai_assistant import OpenAIAssistantRunnable\n",
    "import json\n",
    "from langchain.agents.agent_toolkits import (\n",
    "    create_vectorstore_agent,\n",
    "    VectorStoreToolkit,\n",
    "    VectorStoreInfo,\n",
    ")\n",
    "from langchain.agents import AgentType\n",
    "from langchain.agents import AgentExecutor\n",
    "from langchain.llms import OpenAI\n",
    "from langchain.chat_models import ChatOpenAI"
   ]
  },
  {
   "cell_type": "code",
   "execution_count": null,
   "id": "b55c2918-273b-4d24-a1e2-015b30e08756",
   "metadata": {},
   "outputs": [],
   "source": [
    "import os\n",
    "os.environ['OPENAI_API_KEY'] = \"<OPENAI API KEY>\""
   ]
  },
  {
   "cell_type": "code",
   "execution_count": null,
   "id": "90bc8fc3-6203-4aa9-a687-41e9aff40b56",
   "metadata": {},
   "outputs": [],
   "source": [
    "import ast\n",
    "import pandas as pd"
   ]
  },
  {
   "cell_type": "code",
   "execution_count": null,
   "id": "4cee7266-12f6-4462-8efa-866baeca0765",
   "metadata": {},
   "outputs": [],
   "source": [
    "from tqdm.notebook import tqdm\n",
    "tqdm.pandas()"
   ]
  },
  {
   "cell_type": "markdown",
   "id": "b4a9fa90-10f2-4633-bae2-2588b1095494",
   "metadata": {},
   "source": [
    "## LLM agent - Procedures subset"
   ]
  },
  {
   "cell_type": "code",
   "execution_count": null,
   "id": "d0e896fc-3147-45bb-9a75-7c525be3db40",
   "metadata": {},
   "outputs": [],
   "source": [
    "sigtap_df = pd.read_csv('<ANNOTATED SIGTAP TABLE>.csv', sep='\\t', converters={'ID': str, 'sourceCode': str},\n",
    "                        names=['ID', 'Name', 'Description', 'sourceCode', 'conceptId'], header=0)"
   ]
  },
  {
   "cell_type": "code",
   "execution_count": null,
   "id": "a63910e9-bbc9-4fa3-876b-d6b00daff4b8",
   "metadata": {},
   "outputs": [],
   "source": [
    "def safe_literal_eval(x):\n",
    "    try:\n",
    "        return ast.literal_eval(x) if pd.notna(x) else None\n",
    "    except (ValueError, SyntaxError):\n",
    "        return []"
   ]
  },
  {
   "cell_type": "code",
   "execution_count": null,
   "id": "5a6d1bf8-016a-494e-942c-e0e7624dc5be",
   "metadata": {},
   "outputs": [],
   "source": [
    "sigtap_df['conceptId'] = sigtap_df['conceptId'].apply(safe_literal_eval)"
   ]
  },
  {
   "cell_type": "code",
   "execution_count": null,
   "id": "08cdfe43-8519-4bf5-9497-5828207cf8b3",
   "metadata": {},
   "outputs": [],
   "source": [
    "sigtap_df['Name'] = sigtap_df['Name'].str.strip()"
   ]
  },
  {
   "cell_type": "code",
   "execution_count": null,
   "id": "710a71fb-7f9a-4f03-86a7-fe9629a29e69",
   "metadata": {},
   "outputs": [],
   "source": [
    "sigtap_df['Description'] = sigtap_df['Description'].str.strip()"
   ]
  },
  {
   "cell_type": "code",
   "execution_count": null,
   "id": "efbe470d-ef89-4bfb-b8c0-870c8034bca8",
   "metadata": {},
   "outputs": [],
   "source": [
    "sigtap_df"
   ]
  },
  {
   "cell_type": "code",
   "execution_count": null,
   "id": "da608a60-c67e-41ee-b70a-84950cf8868d",
   "metadata": {},
   "outputs": [],
   "source": [
    "# Filter procedures subset\n",
    "sigtap_procedures_original = sigtap_df[sigtap_df.ID.str[:2] != '06'].copy()"
   ]
  },
  {
   "cell_type": "code",
   "execution_count": null,
   "id": "e8a9c520-d18a-42c9-8ea1-3a7c94edfad1",
   "metadata": {},
   "outputs": [],
   "source": [
    "len(sigtap_procedures_original[~sigtap_procedures_original.conceptId.isna()])"
   ]
  },
  {
   "cell_type": "code",
   "execution_count": null,
   "id": "a430f947-53f3-42e9-9d90-6b5b1359f77e",
   "metadata": {},
   "outputs": [],
   "source": [
    "sigtap_procedures = sigtap_procedures_original[~sigtap_procedures_original.conceptId.isna()].sample(n=50, random_state=0)"
   ]
  },
  {
   "cell_type": "code",
   "execution_count": null,
   "id": "11b7b200-f871-410b-a403-b66f991c2667",
   "metadata": {},
   "outputs": [],
   "source": [
    "sigtap_procedures.sort_index()"
   ]
  },
  {
   "cell_type": "code",
   "execution_count": null,
   "id": "2b219f93-1348-4c4d-b92a-8cfae7126ffe",
   "metadata": {},
   "outputs": [],
   "source": [
    "vectorstore_info = VectorStoreInfo(\n",
    "    name=\"snomed_concepts\",\n",
    "    description=\"concepts in the SNOMED CT vocabulary using a vector store\",\n",
    "    vectorstore=chroma_db,\n",
    ")"
   ]
  },
  {
   "cell_type": "code",
   "execution_count": null,
   "id": "9c8db76e-d139-4c5b-8a0b-d3905c30bc57",
   "metadata": {},
   "outputs": [],
   "source": [
    "def assistant_procedures_search(row):\n",
    "    if 'llm_output' in row and row.llm_output != 'Error':\n",
    "        return row.llm_output, row.llm_concepts, row.matched\n",
    "    llm = ChatOpenAI(openai_api_key=\"<OPENAI API KEY>\", temperature=0.0, model='gpt-4-1106-preview')\n",
    "    toolkit = VectorStoreToolkit(vectorstore_info=vectorstore_info, llm=llm)\n",
    "    tools = [toolkit.get_tools()[1]]\n",
    "    instructions = (\n",
    "        'You are a system tasked with searching through the SNOMED terminology to find the single closest/most similar term '\n",
    "        'to a given term, from another terminology, that I will provide. To search the SNOMED terminology, you have access to a vector '\n",
    "        'store containing the entire SNOMED terminology, so make sure to use it. If you don\\'t think any of the results you get '\n",
    "        'from the vector store matches the given term adequately, you may change the given term without changing its meaning too much '\n",
    "        '(using synonyms, variations, and other changes) and try it again. You may repeat this process a few times and return the best '\n",
    "        'match you get. As a heads up, the given terms come from another terminology, so they will rarely, if ever, have an '\n",
    "        'exact match in SNOMED. Also include the sources with your answer.'\n",
    "    )\n",
    "    try:\n",
    "        agent = OpenAIAssistantRunnable.create_assistant(\n",
    "            name=\"langchain snomed vs tool\",\n",
    "            instructions=instructions,\n",
    "            tools=tools,\n",
    "            model=\"gpt-4-1106-preview\",\n",
    "            as_agent=True,\n",
    "        )\n",
    "    except Exception as e:\n",
    "        print(str(e))\n",
    "        return 'Error', [], False\n",
    "    agent_executor = AgentExecutor(agent=agent, tools=tools, verbose=False, return_intermediate_steps=True)\n",
    "    try:\n",
    "        description = ''\n",
    "        if type(row.Description) == str:\n",
    "            description = ' Description of the given term: \"{}\"'.format(row.Description.capitalize())\n",
    "        response = agent_executor.invoke({\"content\": 'What is the closest term to the given term = \"{}\".{}'.format(row.Name.capitalize(), description)})\n",
    "    except Exception as e:\n",
    "        print(str(e))\n",
    "        raise Exception\n",
    "        return 'Error', [], False\n",
    "    try:\n",
    "        queried_concepts = [(concept.get('concept_id'), concept.get('concept_name')) for concept in chroma_db._collection.get(ids=json.loads(response['intermediate_steps'][-1][1]).get('sources').split(', '), include=['metadatas'])['metadatas']]\n",
    "    except:\n",
    "        queried_concepts = ''\n",
    "    matched = False\n",
    "    if queried_concepts:\n",
    "        concept_list = [concept[0] for concept in queried_concepts]\n",
    "        matched = bool(set(concept_list).intersection(set(row.conceptId))) if row.conceptId else False\n",
    "    return response, queried_concepts, matched"
   ]
  },
  {
   "cell_type": "code",
   "execution_count": null,
   "id": "4c58eed4-2dcf-49f4-9c72-a18821d051a9",
   "metadata": {},
   "outputs": [],
   "source": [
    "sigtap_procedures[['llm_output', 'llm_concepts', 'matched']] = sigtap_procedures.progress_apply(assistant_procedures_search, axis=1, result_type='expand')"
   ]
  },
  {
   "cell_type": "code",
   "execution_count": null,
   "id": "d762a350-3b0b-45cc-84bd-66530553a836",
   "metadata": {},
   "outputs": [],
   "source": [
    "sigtap_procedures"
   ]
  },
  {
   "cell_type": "code",
   "execution_count": null,
   "id": "d33a755f-26f4-4134-b6fc-99587349bc95",
   "metadata": {},
   "outputs": [],
   "source": [
    "print('Number of matches = ', len(sigtap_procedures[sigtap_procedures.matched == True]))\n",
    "print('Number of valid outputs = ', len(sigtap_procedures[(~sigtap_procedures.llm_concepts.isna()) & (sigtap_procedures.llm_concepts.str.len() > 0)]))"
   ]
  },
  {
   "cell_type": "code",
   "execution_count": null,
   "id": "c026ac81-7330-4306-850f-6f2c5ac9e614",
   "metadata": {},
   "outputs": [],
   "source": [
    "print('Number of invalid outputs = ', len(sigtap_procedures[sigtap_procedures.llm_concepts.str.len() == 0]))"
   ]
  },
  {
   "cell_type": "code",
   "execution_count": null,
   "id": "389a4568-88e1-43e8-a6a3-65020426b01d",
   "metadata": {},
   "outputs": [],
   "source": [
    "sigtap_procedures.to_csv('sigtap_procedures_gpt4_assistant.csv', sep='\\t', index=False)"
   ]
  },
  {
   "cell_type": "markdown",
   "id": "075a9d4e-8403-46b2-8dbf-d6baa518086f",
   "metadata": {},
   "source": [
    "## LLM agent - Medicines subset"
   ]
  },
  {
   "cell_type": "code",
   "execution_count": null,
   "id": "284fc1f7-f663-4a44-8619-75053e89b7df",
   "metadata": {},
   "outputs": [],
   "source": [
    "sigtap_df = pd.read_csv('<ANNOTATED SIGTAP TABLE>.csv', sep='\\t', converters={'ID': str, 'sourceCode': str},\n",
    "                        names=['ID', 'Name', 'Description', 'sourceCode', 'conceptId'], header=0)"
   ]
  },
  {
   "cell_type": "code",
   "execution_count": null,
   "id": "fa4d2e12-f25d-4468-99d7-12524be54cf4",
   "metadata": {},
   "outputs": [],
   "source": [
    "def safe_literal_eval(x):\n",
    "    try:\n",
    "        return ast.literal_eval(x) if pd.notna(x) else None\n",
    "    except (ValueError, SyntaxError):\n",
    "        return []"
   ]
  },
  {
   "cell_type": "code",
   "execution_count": null,
   "id": "b85d32e2-b8da-41f8-9e71-6b2f22644566",
   "metadata": {},
   "outputs": [],
   "source": [
    "sigtap_df['conceptId'] = sigtap_df['conceptId'].apply(safe_literal_eval)"
   ]
  },
  {
   "cell_type": "code",
   "execution_count": null,
   "id": "fc78f66c-5649-4051-8e43-6ecb41b381ce",
   "metadata": {},
   "outputs": [],
   "source": [
    "sigtap_df['Name'] = sigtap_df['Name'].str.strip()"
   ]
  },
  {
   "cell_type": "code",
   "execution_count": null,
   "id": "bb0e509e-6d19-40fe-ba18-ae93544acd85",
   "metadata": {},
   "outputs": [],
   "source": [
    "sigtap_df['Description'] = sigtap_df['Description'].str.strip()"
   ]
  },
  {
   "cell_type": "code",
   "execution_count": null,
   "id": "415f5245-07d1-4dd7-b5f8-42e8d2da6b0e",
   "metadata": {},
   "outputs": [],
   "source": [
    "sigtap_df"
   ]
  },
  {
   "cell_type": "code",
   "execution_count": null,
   "id": "72815228-a311-4da9-abb4-9ac7f31215e9",
   "metadata": {},
   "outputs": [],
   "source": [
    "# Filter medicines subset\n",
    "sigtap_medicines = sigtap_df[sigtap_df.ID.str[:2] == '06'].copy()"
   ]
  },
  {
   "cell_type": "code",
   "execution_count": null,
   "id": "0167ee39-a0e8-4065-840f-8dfa5dca1dba",
   "metadata": {},
   "outputs": [],
   "source": [
    "len(sigtap_medicines[~sigtap_medicines.conceptId.isna()])"
   ]
  },
  {
   "cell_type": "code",
   "execution_count": null,
   "id": "21645d59-f5d8-4445-9d20-91e8a5fa166f",
   "metadata": {},
   "outputs": [],
   "source": [
    "sigtap_medicines = sigtap_medicines[~sigtap_medicines.conceptId.isna()].sample(n=50, random_state=0)"
   ]
  },
  {
   "cell_type": "code",
   "execution_count": null,
   "id": "6347827a-0abe-46ec-83c1-c14797a62d6f",
   "metadata": {},
   "outputs": [],
   "source": [
    "sigtap_medicines.sort_index()"
   ]
  },
  {
   "cell_type": "code",
   "execution_count": null,
   "id": "2be5f62c-2333-4f26-af12-29f1bf414b57",
   "metadata": {},
   "outputs": [],
   "source": [
    "vectorstore_info = VectorStoreInfo(\n",
    "    name=\"rxnorm_concepts\",\n",
    "    description=\"concepts in the RxNorm vocabulary using a vector store\",\n",
    "    vectorstore=chroma_db,\n",
    ")"
   ]
  },
  {
   "cell_type": "code",
   "execution_count": null,
   "id": "0e8efe2d-7f99-402a-994b-f71f3baabe0f",
   "metadata": {},
   "outputs": [],
   "source": [
    "def assistant_medicines_search(row):\n",
    "    if 'llm_output' in row and row.llm_output != 'Error':\n",
    "        return row.llm_output, row.llm_concepts, row.matched\n",
    "    llm = ChatOpenAI(openai_api_key=\"<OPENAI API KEY>\", temperature=0.0, model='gpt-4-1106-preview')\n",
    "    toolkit = VectorStoreToolkit(vectorstore_info=vectorstore_info, llm=llm)\n",
    "    tools = [toolkit.get_tools()[1]]\n",
    "    instructions = (\n",
    "        'You are a system tasked with searching through the RxNorm terminology to find the single closest/most similar term '\n",
    "        'to a given term, from another terminology, that I will provide. To search the RxNorm terminology, you have access to a vector '\n",
    "        'store containing the entire RxNorm terminology, so make sure to use it. If you don\\'t think any of the results you get '\n",
    "        'from the vector store matches the given term adequately, you may change the given term without changing its meaning too much '\n",
    "        '(using synonyms, variations, and other changes) and try it again. You may repeat this process a few times and return the best '\n",
    "        'match you get. As a heads up, the given terms come from another terminology, so they will rarely, if ever, have an '\n",
    "        'exact match in RxNorm. Also include the sources with your answer.'\n",
    "    )\n",
    "    try:\n",
    "        agent = OpenAIAssistantRunnable.create_assistant(\n",
    "            name=\"langchain rxnorm vs tool\",\n",
    "            instructions=instructions,\n",
    "            tools=tools,\n",
    "            model=\"gpt-4-1106-preview\",\n",
    "            as_agent=True,\n",
    "        )\n",
    "    except:\n",
    "        return 'Error', [], False\n",
    "    agent_executor = AgentExecutor(agent=agent, tools=tools, verbose=False, return_intermediate_steps=True)\n",
    "    try:\n",
    "        response = agent_executor.invoke({\"content\": 'What is the closest term to the given term = \"{}\"'.format(row.Name.capitalize())})\n",
    "    except:\n",
    "        return 'Error', [], False\n",
    "    try:\n",
    "        queried_concepts = [(concept.get('concept_id'), concept.get('concept_name')) for concept in chroma_db._collection.get(ids=json.loads(response['intermediate_steps'][-1][1]).get('sources').split(', '), include=['metadatas'])['metadatas']]\n",
    "    except:\n",
    "        queried_concepts = ''\n",
    "    matched = False\n",
    "    if queried_concepts:\n",
    "        concept_list = [concept[0] for concept in queried_concepts]\n",
    "        matched = bool(set(concept_list).intersection(set(row.conceptId))) if row.conceptId else False\n",
    "    return response, queried_concepts, matched"
   ]
  },
  {
   "cell_type": "code",
   "execution_count": null,
   "id": "39b0a74d-1909-4028-a346-1192a2a3b792",
   "metadata": {},
   "outputs": [],
   "source": [
    "sigtap_medicines[['llm_output', 'llm_concepts', 'matched']] = sigtap_medicines.progress_apply(assistant_medicines_search, axis=1, result_type='expand')"
   ]
  },
  {
   "cell_type": "code",
   "execution_count": null,
   "id": "47347ab4-00b4-4b97-b3cf-0af09e59c94f",
   "metadata": {},
   "outputs": [],
   "source": [
    "def check_concepts(row):\n",
    "\n",
    "    queried_concepts = [concept.get('concept_id') for concept in chroma_db._collection.get(ids=json.loads(row.llm_output['intermediate_steps'][-1][1]).get('sources').split(', '), include=['metadatas'])['metadatas']]\n",
    "\n",
    "    return queried_concepts"
   ]
  },
  {
   "cell_type": "code",
   "execution_count": null,
   "id": "1fc46d0c-f05d-4692-8dbb-6257d5e5f349",
   "metadata": {},
   "outputs": [],
   "source": [
    "sigtap_medicines['llm_concepts'] = sigtap_medicines.progress_apply(check_concepts, axis=1)"
   ]
  },
  {
   "cell_type": "code",
   "execution_count": null,
   "id": "2958d8eb-eea7-4433-94df-c81452d5c0b1",
   "metadata": {},
   "outputs": [],
   "source": [
    "sigtap_medicines"
   ]
  },
  {
   "cell_type": "code",
   "execution_count": null,
   "id": "5b0fbec2-4f33-482a-bd59-31c8f63b0630",
   "metadata": {},
   "outputs": [],
   "source": [
    "print('Number of matches = ', len(sigtap_medicines[sigtap_medicines.matched == True]))\n",
    "print('Number of valid outputs = ', len(sigtap_medicines[(~sigtap_medicines.llm_concepts.isna()) & (sigtap_medicines.llm_concepts.str.len() > 0)]))"
   ]
  },
  {
   "cell_type": "code",
   "execution_count": null,
   "id": "8d7c50cd-f518-4361-88fe-1c856d7b9b75",
   "metadata": {},
   "outputs": [],
   "source": [
    "print('Number of invalid outputs = ', len(sigtap_medicines[sigtap_medicines.llm_concepts.str.len() == 0]))"
   ]
  },
  {
   "cell_type": "code",
   "execution_count": null,
   "id": "c0abf914-8115-426b-bbac-1eabf26c028a",
   "metadata": {},
   "outputs": [],
   "source": [
    "sigtap_procedures.to_csv('sigtap_meds_gpt4_assistant.csv', sep='\\t', index=False)"
   ]
  },
  {
   "cell_type": "code",
   "execution_count": null,
   "id": "639414f8-3b33-4e2a-bb9a-9e29db8f93de",
   "metadata": {},
   "outputs": [],
   "source": []
  }
 ],
 "metadata": {
  "kernelspec": {
   "display_name": "Python 3 (ipykernel)",
   "language": "python",
   "name": "python3"
  },
  "language_info": {
   "codemirror_mode": {
    "name": "ipython",
    "version": 3
   },
   "file_extension": ".py",
   "mimetype": "text/x-python",
   "name": "python",
   "nbconvert_exporter": "python",
   "pygments_lexer": "ipython3",
   "version": "3.10.12"
  }
 },
 "nbformat": 4,
 "nbformat_minor": 5
}
