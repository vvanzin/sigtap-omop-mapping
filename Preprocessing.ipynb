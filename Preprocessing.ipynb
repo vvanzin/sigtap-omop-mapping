{
  "nbformat": 4,
  "nbformat_minor": 0,
  "metadata": {
    "colab": {
      "provenance": []
    },
    "kernelspec": {
      "name": "python3",
      "display_name": "Python 3"
    },
    "language_info": {
      "name": "python"
    }
  },
  "cells": [
    {
      "cell_type": "code",
      "execution_count": null,
      "metadata": {
        "id": "ZLXmxjJ4HcU7"
      },
      "outputs": [],
      "source": [
        "!pip install owlready2==0.44"
      ]
    },
    {
      "cell_type": "code",
      "source": [
        "from owlready2 import *\n",
        "from owlready2.pymedtermino2 import *\n",
        "from owlready2.pymedtermino2.umls import *"
      ],
      "metadata": {
        "id": "81AJuGSrHpIy"
      },
      "execution_count": null,
      "outputs": []
    },
    {
      "cell_type": "code",
      "source": [
        "default_world.set_backend(filename='umls.sqlite3')\n",
        "import_umls('<UMLS METATHESAURUS>.zip', terminologies=['CUI', 'SNOMEDCT_US', 'LNC',\n",
        "    'ICD10PCS', 'RXNORM', 'MTHSPL', 'ATC', 'HCPCS'])\n",
        "default_world.save()"
      ],
      "metadata": {
        "id": "NNgDhLfTNYfS"
      },
      "execution_count": null,
      "outputs": []
    },
    {
      "cell_type": "code",
      "source": [
        "PYM = get_ontology(\"http://PYM/\").load()"
      ],
      "metadata": {
        "id": "qIK_AshMYalB"
      },
      "execution_count": null,
      "outputs": []
    },
    {
      "cell_type": "markdown",
      "source": [
        "#### Mapeamento SIGTAP-OMOP"
      ],
      "metadata": {
        "id": "yKZzX27Zatgs"
      }
    },
    {
      "cell_type": "code",
      "source": [
        "import pandas as pd"
      ],
      "metadata": {
        "id": "tGP6JIDUqv5r"
      },
      "execution_count": null,
      "outputs": []
    },
    {
      "cell_type": "code",
      "source": [
        "sigtap_omop_df = pd.read_csv('<SIGTAP OMOP ANNOTATIONS>.csv',\n",
        "                 dtype={'sourceCode': str, 'statusSetOn': str, 'conceptId': str, 'createdOn': str})"
      ],
      "metadata": {
        "id": "aFPz7AWhqyu_"
      },
      "execution_count": null,
      "outputs": []
    },
    {
      "cell_type": "code",
      "source": [
        "sigtap_omop_df"
      ],
      "metadata": {
        "id": "2jtKv3asRFE4"
      },
      "execution_count": null,
      "outputs": []
    },
    {
      "cell_type": "markdown",
      "source": [
        "#### SIGTAP"
      ],
      "metadata": {
        "id": "S3OQ_IHhazrV"
      }
    },
    {
      "cell_type": "code",
      "source": [
        "import re"
      ],
      "metadata": {
        "id": "zoOmVUJJfzSq"
      },
      "execution_count": null,
      "outputs": []
    },
    {
      "cell_type": "code",
      "source": [
        "data = []\n",
        "with open('<SIGTAP Table Names>.txt', 'r', encoding='latin-1') as f:\n",
        "    for line in f:\n",
        "        line = line.split('                    ')[0]\n",
        "        m = re.match(r'^(\\d+)(.+)', line, re.UNICODE)\n",
        "        if m:\n",
        "            id_part, name_part = m.groups()\n",
        "            data.append((id_part, name_part.strip()))"
      ],
      "metadata": {
        "id": "qTl2u690a_4J"
      },
      "execution_count": null,
      "outputs": []
    },
    {
      "cell_type": "code",
      "source": [
        "sigtap_procs_df = pd.DataFrame(data, columns=['ID', 'Name'])\n",
        "sigtap_procs_df"
      ],
      "metadata": {
        "id": "6_pe_QOwdvvo"
      },
      "execution_count": null,
      "outputs": []
    },
    {
      "cell_type": "code",
      "source": [
        "data = []\n",
        "with open('<SIGTAP Table Descriptions>.txt', 'r', encoding='latin-1') as f:\n",
        "    for line in f:\n",
        "        line = line.split('                              ')[0]\n",
        "        m = re.match(r'^(\\d+)(.+)', line, re.UNICODE)\n",
        "        if m:\n",
        "            id_part, name_part = m.groups()\n",
        "            data.append((id_part, name_part.strip()))"
      ],
      "metadata": {
        "id": "_HvPPoR_nqmG"
      },
      "execution_count": null,
      "outputs": []
    },
    {
      "cell_type": "code",
      "source": [
        "sigtap_desc_df = pd.DataFrame(data, columns=['ID', 'Name'])\n",
        "sigtap_desc_df"
      ],
      "metadata": {
        "id": "0QIdnsWgn5pP"
      },
      "execution_count": null,
      "outputs": []
    },
    {
      "cell_type": "code",
      "source": [
        "merged_df = sigtap_procs_df.merge(sigtap_desc_df, how='left', on='ID')"
      ],
      "metadata": {
        "id": "-LQdhDlXYWAz"
      },
      "execution_count": null,
      "outputs": []
    },
    {
      "cell_type": "code",
      "source": [
        "merged_df"
      ],
      "metadata": {
        "id": "Yr8H96XRZhaG"
      },
      "execution_count": null,
      "outputs": []
    },
    {
      "cell_type": "code",
      "source": [
        "merged_df.to_csv('sigtap_procedimentos_descricoes.csv', sep='\\t', index=False)"
      ],
      "metadata": {
        "id": "7_kH-dTEeJDq"
      },
      "execution_count": null,
      "outputs": []
    },
    {
      "cell_type": "markdown",
      "source": [
        "#### OMOP vocabularies"
      ],
      "metadata": {
        "id": "sVNQo82Ya21U"
      }
    },
    {
      "cell_type": "code",
      "source": [
        "omop_df = pd.read_csv('<OMOP Athena vocabularies concepts>.csv', sep='\\t', dtype={'concept_id': str, 'concept_code': str})\n",
        "omop_df"
      ],
      "metadata": {
        "id": "_Qxta4NGwWs9"
      },
      "execution_count": null,
      "outputs": []
    },
    {
      "cell_type": "code",
      "source": [
        "sigtap_merged = sigtap_omop_df.merge(omop_df, how='left', left_on='conceptId', right_on='concept_id')"
      ],
      "metadata": {
        "id": "NyqrvswBSi_p"
      },
      "execution_count": null,
      "outputs": []
    },
    {
      "cell_type": "code",
      "source": [
        "annotated_grouped = sigtap_merged[sigtap_merged.mappingStatus == 'APPROVED'].groupby('sourceCode')['vocabulary_id'].agg(list).reset_index()"
      ],
      "metadata": {
        "id": "FY0gVgdq9Jbb"
      },
      "execution_count": null,
      "outputs": []
    },
    {
      "cell_type": "code",
      "source": [
        "annotated_grouped[annotated_grouped['vocabulary_id'].apply(lambda x: not any(element in x for element in ['SNOMED', 'RxNorm', 'RxNorm Extension']))]"
      ],
      "metadata": {
        "id": "0as2lWj19Oyd"
      },
      "execution_count": null,
      "outputs": []
    },
    {
      "cell_type": "code",
      "source": [
        "sigtap_merged.vocabulary_id.unique()"
      ],
      "metadata": {
        "id": "SaOuerHzUHfR"
      },
      "execution_count": null,
      "outputs": []
    },
    {
      "cell_type": "code",
      "source": [
        "omop_df.vocabulary_id.unique()"
      ],
      "metadata": {
        "id": "VXFGHK65nGSS"
      },
      "execution_count": null,
      "outputs": []
    },
    {
      "cell_type": "code",
      "source": [
        "OMOP_UMLS_MAPPING = {'CUI': 'CUI', 'SNOMED': 'SNOMEDCT_US', 'LOINC': 'LNC',\n",
        "    'ICD10PCS': 'ICD10PCS', 'RxNorm': 'RXNORM', 'SPL': 'MTHSPL', 'ATC': 'ATC', 'HCPCS': 'HCPCS'}"
      ],
      "metadata": {
        "id": "qYB0SIz9mvji"
      },
      "execution_count": null,
      "outputs": []
    },
    {
      "cell_type": "code",
      "source": [
        "def query_cui_code(row):\n",
        "    cui_id = None\n",
        "    umls_vocabulary = OMOP_UMLS_MAPPING.get(row.vocabulary_id)\n",
        "    if umls_vocabulary:\n",
        "        concept = PYM[umls_vocabulary][row.concept_code]\n",
        "        if concept:\n",
        "            cui_ids = concept.unifieds\n",
        "            if cui_ids:\n",
        "                cui_id = cui_ids[0].name\n",
        "    row['CUI'] = cui_id\n",
        "    return row"
      ],
      "metadata": {
        "id": "dbW6AuKYno-x"
      },
      "execution_count": null,
      "outputs": []
    },
    {
      "cell_type": "code",
      "source": [
        "from tqdm.notebook import tqdm\n",
        "tqdm.pandas()"
      ],
      "metadata": {
        "id": "iyNs4tk81JiM"
      },
      "execution_count": null,
      "outputs": []
    },
    {
      "cell_type": "code",
      "source": [
        "omop_filter = omop_df['vocabulary_id'].isin(['SNOMED', 'LOINC',\n",
        "    'ICD10PCS', 'RxNorm', 'SPL', 'ATC', 'HCPCS'])"
      ],
      "metadata": {
        "id": "F4q4q7VaBsR-"
      },
      "execution_count": null,
      "outputs": []
    },
    {
      "cell_type": "code",
      "source": [
        "omop_df.loc[omop_filter, 'CUI'] = omop_df.loc[omop_filter].progress_apply(query_cui_code, axis=1)"
      ],
      "metadata": {
        "id": "2vYod-qeoQZJ"
      },
      "execution_count": null,
      "outputs": []
    },
    {
      "cell_type": "code",
      "source": [
        "omop_df.to_csv('omop_with_cui_code.csv', sep='\\t', index=False)"
      ],
      "metadata": {
        "id": "nPQ3gwhqE7wq"
      },
      "execution_count": null,
      "outputs": []
    },
    {
      "cell_type": "markdown",
      "source": [
        "#### Definition extraction"
      ],
      "metadata": {
        "id": "EpwZymOCrxK-"
      }
    },
    {
      "cell_type": "code",
      "source": [
        "umls_defs = pd.read_csv('<UMLS MRDEF.RRF>', sep='|', names=['CUI', 'AUI', 'ATUI', 'SATUI', 'SAB', 'DEF', 'SUPPRESS', 'CVF', 'Other'])\n",
        "umls_defs"
      ],
      "metadata": {
        "id": "_2YRESUMizOa"
      },
      "execution_count": null,
      "outputs": []
    },
    {
      "cell_type": "code",
      "source": [
        "non_english = ['MSHPOR', 'MSHSPA', 'MSHCZE', 'MSHSWE', 'SCTSPA', 'MSHNOR', 'MDRKOR', 'MDRSPA', 'MDRDUT', 'MDRRUS', 'MDRSWE', 'MDRBPO', 'MDRLAV', 'MDRJPN', 'MDRGRE', 'MDRPOL',\n",
        "    'MDRHUN', 'MDRGER', 'MDRCZE', 'MDRPOR', 'MDRITA', 'MDRFRE', 'MDRARA', 'MSHFRE', 'MSHSCR']"
      ],
      "metadata": {
        "id": "7CRz--rrz20f"
      },
      "execution_count": null,
      "outputs": []
    },
    {
      "cell_type": "code",
      "source": [
        "definitions_umls = umls_defs[~umls_defs.SAB.isin(non_english)].groupby('CUI')['DEF'].apply(lambda x: ' | '.join(x)).reset_index()\n",
        "definitions_umls"
      ],
      "metadata": {
        "id": "XKVN4mjPuwTr"
      },
      "execution_count": null,
      "outputs": []
    },
    {
      "cell_type": "markdown",
      "source": [
        "#### OMOP concepts with definitions"
      ],
      "metadata": {
        "id": "7b5FHRSi4_D5"
      }
    },
    {
      "cell_type": "code",
      "source": [
        "omop_cui = pd.read_csv('omop_with_cui_code.csv', sep='\\t', dtype={'concept_id': str, 'concept_code': str})"
      ],
      "metadata": {
        "id": "9vf5YRg45TFT"
      },
      "execution_count": null,
      "outputs": []
    },
    {
      "cell_type": "code",
      "source": [
        "omop_cui_definitions = omop_cui.merge(definitions_umls, how='left', left_on='CUI', right_on='CUI')\n",
        "omop_cui_definitions"
      ],
      "metadata": {
        "id": "jTu_am0y5B-p"
      },
      "execution_count": null,
      "outputs": []
    },
    {
      "cell_type": "code",
      "source": [
        "omop_cui_definitions[~omop_cui_definitions.DEF.isna()]"
      ],
      "metadata": {
        "id": "eg93Lq3c6ipT"
      },
      "execution_count": null,
      "outputs": []
    },
    {
      "cell_type": "code",
      "source": [
        "omop_cui_definitions.to_csv('omop_cui_definitions.csv', sep='\\t', index=False)"
      ],
      "metadata": {
        "id": "KaALDLUq7__H"
      },
      "execution_count": null,
      "outputs": []
    },
    {
      "cell_type": "markdown",
      "source": [
        "#### OMOP concepts - CUI, definitions and synonyms"
      ],
      "metadata": {
        "id": "Sr1YQavrBiHf"
      }
    },
    {
      "cell_type": "code",
      "source": [
        "omop_synonym_df = pd.read_csv('<OMOP Athena concepts synonyms>.csv', sep='\\t',\n",
        "                              dtype={'concept_id': str, 'concept_synonym_name': str, 'language_concept_id': str})\n",
        "# Language code EN = 4180186\n",
        "omop_synonym_df = omop_synonym_df[omop_synonym_df.language_concept_id == '4180186']\n",
        "omop_synonym_df['concept_synonym_name'] = omop_synonym_df['concept_synonym_name'].fillna('')\n",
        "omop_synonym_df"
      ],
      "metadata": {
        "id": "jdHiutGZtRjN"
      },
      "execution_count": null,
      "outputs": []
    },
    {
      "cell_type": "code",
      "source": [
        "# Testing for suitable separator\n",
        "omop_synonym_df[omop_synonym_df['concept_synonym_name'].str.contains('£', regex=False)]"
      ],
      "metadata": {
        "id": "RTKolLx5KhiJ"
      },
      "execution_count": null,
      "outputs": []
    },
    {
      "cell_type": "code",
      "source": [
        "# Grouping synonyms by concept ID\n",
        "omop_synonyms = omop_synonym_df.groupby('concept_id')['concept_synonym_name'].apply(lambda x: ' £ '.join(x)).reset_index()\n",
        "omop_synonyms"
      ],
      "metadata": {
        "id": "5Oqgs5PtNtmv"
      },
      "execution_count": null,
      "outputs": []
    },
    {
      "cell_type": "code",
      "source": [
        "omop_cui_definitions = pd.read_csv('omop_cui_definitions.csv', sep='\\t', dtype={'concept_id': str, 'concept_code': str})\n",
        "omop_cui_definitions[~omop_cui_definitions.DEF.isna()]"
      ],
      "metadata": {
        "id": "m5dnLvWNFUYD"
      },
      "execution_count": null,
      "outputs": []
    },
    {
      "cell_type": "code",
      "source": [
        "omop_cui_defs_syns = omop_cui_definitions.merge(omop_synonyms, how='left', left_on='concept_id', right_on='concept_id')\n",
        "omop_cui_defs_syns"
      ],
      "metadata": {
        "id": "KdwFn8HGFxqJ"
      },
      "execution_count": null,
      "outputs": []
    },
    {
      "cell_type": "code",
      "source": [
        "omop_cui_defs_syns.to_csv('omop_cui_defs_syns.csv', sep='\\t', index=False)"
      ],
      "metadata": {
        "id": "OIsFo3_3S4OU"
      },
      "execution_count": null,
      "outputs": []
    },
    {
      "cell_type": "code",
      "source": [],
      "metadata": {
        "id": "Rhj2n7JgXHGX"
      },
      "execution_count": null,
      "outputs": []
    }
  ]
}